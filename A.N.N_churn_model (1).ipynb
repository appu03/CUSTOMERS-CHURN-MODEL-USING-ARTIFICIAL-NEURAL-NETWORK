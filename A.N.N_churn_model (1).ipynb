{
 "cells": [
  {
   "cell_type": "code",
   "execution_count": 1,
   "metadata": {},
   "outputs": [],
   "source": [
    "import numpy as np\n",
    "import matplotlib.pyplot as plt\n",
    "import pandas as pd\n",
    "from scipy import stats\n",
    "from scipy.stats import norm\n",
    "from sklearn import linear_model\n",
    "from sklearn.linear_model import LinearRegression\n",
    "from sklearn.model_selection import train_test_split,cross_val_score\n",
    "from sklearn.linear_model import Ridge\n",
    "from sklearn.linear_model import Lasso\n",
    "from sklearn.model_selection import GridSearchCV\n",
    "from sklearn.preprocessing import StandardScaler\n",
    "from sklearn.metrics import r2_score"
   ]
  },
  {
   "cell_type": "markdown",
   "metadata": {},
   "source": [
    "### Reading the data."
   ]
  },
  {
   "cell_type": "code",
   "execution_count": 2,
   "metadata": {},
   "outputs": [],
   "source": [
    "dataset = pd.read_csv(\"D:\\DEEP_Learning(UDEMY)\\ARTIFCIAL_NEURAL_NETWORK\\Churn_Modelling.csv\")"
   ]
  },
  {
   "cell_type": "code",
   "execution_count": 3,
   "metadata": {},
   "outputs": [
    {
     "data": {
      "text/html": [
       "<div>\n",
       "<style scoped>\n",
       "    .dataframe tbody tr th:only-of-type {\n",
       "        vertical-align: middle;\n",
       "    }\n",
       "\n",
       "    .dataframe tbody tr th {\n",
       "        vertical-align: top;\n",
       "    }\n",
       "\n",
       "    .dataframe thead th {\n",
       "        text-align: right;\n",
       "    }\n",
       "</style>\n",
       "<table border=\"1\" class=\"dataframe\">\n",
       "  <thead>\n",
       "    <tr style=\"text-align: right;\">\n",
       "      <th></th>\n",
       "      <th>RowNumber</th>\n",
       "      <th>CustomerId</th>\n",
       "      <th>Surname</th>\n",
       "      <th>CreditScore</th>\n",
       "      <th>Geography</th>\n",
       "      <th>Gender</th>\n",
       "      <th>Age</th>\n",
       "      <th>Tenure</th>\n",
       "      <th>Balance</th>\n",
       "      <th>NumOfProducts</th>\n",
       "      <th>HasCrCard</th>\n",
       "      <th>IsActiveMember</th>\n",
       "      <th>EstimatedSalary</th>\n",
       "      <th>Exited</th>\n",
       "    </tr>\n",
       "  </thead>\n",
       "  <tbody>\n",
       "    <tr>\n",
       "      <th>0</th>\n",
       "      <td>1</td>\n",
       "      <td>15634602</td>\n",
       "      <td>Hargrave</td>\n",
       "      <td>619</td>\n",
       "      <td>France</td>\n",
       "      <td>Female</td>\n",
       "      <td>42</td>\n",
       "      <td>2</td>\n",
       "      <td>0.00</td>\n",
       "      <td>1</td>\n",
       "      <td>1</td>\n",
       "      <td>1</td>\n",
       "      <td>101348.88</td>\n",
       "      <td>1</td>\n",
       "    </tr>\n",
       "    <tr>\n",
       "      <th>1</th>\n",
       "      <td>2</td>\n",
       "      <td>15647311</td>\n",
       "      <td>Hill</td>\n",
       "      <td>608</td>\n",
       "      <td>Spain</td>\n",
       "      <td>Female</td>\n",
       "      <td>41</td>\n",
       "      <td>1</td>\n",
       "      <td>83807.86</td>\n",
       "      <td>1</td>\n",
       "      <td>0</td>\n",
       "      <td>1</td>\n",
       "      <td>112542.58</td>\n",
       "      <td>0</td>\n",
       "    </tr>\n",
       "    <tr>\n",
       "      <th>2</th>\n",
       "      <td>3</td>\n",
       "      <td>15619304</td>\n",
       "      <td>Onio</td>\n",
       "      <td>502</td>\n",
       "      <td>France</td>\n",
       "      <td>Female</td>\n",
       "      <td>42</td>\n",
       "      <td>8</td>\n",
       "      <td>159660.80</td>\n",
       "      <td>3</td>\n",
       "      <td>1</td>\n",
       "      <td>0</td>\n",
       "      <td>113931.57</td>\n",
       "      <td>1</td>\n",
       "    </tr>\n",
       "    <tr>\n",
       "      <th>3</th>\n",
       "      <td>4</td>\n",
       "      <td>15701354</td>\n",
       "      <td>Boni</td>\n",
       "      <td>699</td>\n",
       "      <td>France</td>\n",
       "      <td>Female</td>\n",
       "      <td>39</td>\n",
       "      <td>1</td>\n",
       "      <td>0.00</td>\n",
       "      <td>2</td>\n",
       "      <td>0</td>\n",
       "      <td>0</td>\n",
       "      <td>93826.63</td>\n",
       "      <td>0</td>\n",
       "    </tr>\n",
       "    <tr>\n",
       "      <th>4</th>\n",
       "      <td>5</td>\n",
       "      <td>15737888</td>\n",
       "      <td>Mitchell</td>\n",
       "      <td>850</td>\n",
       "      <td>Spain</td>\n",
       "      <td>Female</td>\n",
       "      <td>43</td>\n",
       "      <td>2</td>\n",
       "      <td>125510.82</td>\n",
       "      <td>1</td>\n",
       "      <td>1</td>\n",
       "      <td>1</td>\n",
       "      <td>79084.10</td>\n",
       "      <td>0</td>\n",
       "    </tr>\n",
       "  </tbody>\n",
       "</table>\n",
       "</div>"
      ],
      "text/plain": [
       "   RowNumber  CustomerId   Surname  CreditScore Geography  Gender  Age  \\\n",
       "0          1    15634602  Hargrave          619    France  Female   42   \n",
       "1          2    15647311      Hill          608     Spain  Female   41   \n",
       "2          3    15619304      Onio          502    France  Female   42   \n",
       "3          4    15701354      Boni          699    France  Female   39   \n",
       "4          5    15737888  Mitchell          850     Spain  Female   43   \n",
       "\n",
       "   Tenure    Balance  NumOfProducts  HasCrCard  IsActiveMember  \\\n",
       "0       2       0.00              1          1               1   \n",
       "1       1   83807.86              1          0               1   \n",
       "2       8  159660.80              3          1               0   \n",
       "3       1       0.00              2          0               0   \n",
       "4       2  125510.82              1          1               1   \n",
       "\n",
       "   EstimatedSalary  Exited  \n",
       "0        101348.88       1  \n",
       "1        112542.58       0  \n",
       "2        113931.57       1  \n",
       "3         93826.63       0  \n",
       "4         79084.10       0  "
      ]
     },
     "execution_count": 3,
     "metadata": {},
     "output_type": "execute_result"
    }
   ],
   "source": [
    "dataset.head()"
   ]
  },
  {
   "cell_type": "code",
   "execution_count": 4,
   "metadata": {},
   "outputs": [
    {
     "data": {
      "text/plain": [
       "RowNumber          0.0\n",
       "CustomerId         0.0\n",
       "Surname            0.0\n",
       "CreditScore        0.0\n",
       "Geography          0.0\n",
       "Gender             0.0\n",
       "Age                0.0\n",
       "Tenure             0.0\n",
       "Balance            0.0\n",
       "NumOfProducts      0.0\n",
       "HasCrCard          0.0\n",
       "IsActiveMember     0.0\n",
       "EstimatedSalary    0.0\n",
       "Exited             0.0\n",
       "dtype: float64"
      ]
     },
     "execution_count": 4,
     "metadata": {},
     "output_type": "execute_result"
    }
   ],
   "source": [
    "round((dataset.isnull().sum()/len(dataset.index)*100),2)"
   ]
  },
  {
   "cell_type": "code",
   "execution_count": 5,
   "metadata": {},
   "outputs": [
    {
     "data": {
      "text/plain": [
       "RowNumber          10000\n",
       "CustomerId         10000\n",
       "Surname             2932\n",
       "CreditScore          460\n",
       "Geography              3\n",
       "Gender                 2\n",
       "Age                   70\n",
       "Tenure                11\n",
       "Balance             6382\n",
       "NumOfProducts          4\n",
       "HasCrCard              2\n",
       "IsActiveMember         2\n",
       "EstimatedSalary     9999\n",
       "Exited                 2\n",
       "dtype: int64"
      ]
     },
     "execution_count": 5,
     "metadata": {},
     "output_type": "execute_result"
    }
   ],
   "source": [
    "dataset.nunique()"
   ]
  },
  {
   "cell_type": "code",
   "execution_count": 6,
   "metadata": {},
   "outputs": [],
   "source": [
    "import seaborn as sns"
   ]
  },
  {
   "cell_type": "code",
   "execution_count": 7,
   "metadata": {},
   "outputs": [
    {
     "data": {
      "text/plain": [
       "count    10000.000000\n",
       "mean       650.528800\n",
       "std         96.653299\n",
       "min        350.000000\n",
       "25%        584.000000\n",
       "50%        652.000000\n",
       "75%        718.000000\n",
       "max        850.000000\n",
       "Name: CreditScore, dtype: float64"
      ]
     },
     "execution_count": 7,
     "metadata": {},
     "output_type": "execute_result"
    }
   ],
   "source": [
    "dataset.CreditScore.describe()"
   ]
  },
  {
   "cell_type": "code",
   "execution_count": 8,
   "metadata": {},
   "outputs": [],
   "source": [
    "dataset['Credit_score_new']=pd.cut(dataset['CreditScore'],bins=[350,500,700,800,900],\n",
    "labels=[\"Bad\",\"Modest\",\"Good\",\"Very_good\"])"
   ]
  },
  {
   "cell_type": "code",
   "execution_count": 9,
   "metadata": {},
   "outputs": [
    {
     "data": {
      "image/png": "[encoded data removed]",
      "text/plain": [
       "<Figure size 720x432 with 1 Axes>"
      ]
     },
     "metadata": {
      "needs_background": "light"
     },
     "output_type": "display_data"
    }
   ],
   "source": [
    "plt.figure(figsize=(10,6))\n",
    "ax=sns.countplot(x='Credit_score_new',hue='Exited',data=dataset)\n",
    "plt.xticks(rotation=90,fontsize=14)\n",
    "for i in ax.patches:\n",
    "    # get_x pulls left or right; get_height pushes up or down\n",
    "    ax.text(i.get_x()+.04, i.get_height()+50 ,\n",
    "            str(round((i.get_height()), 2)), fontsize=15, color='black',\n",
    "                rotation=0)\n",
    "plt.show()"
   ]
  },
  {
   "cell_type": "code",
   "execution_count": 10,
   "metadata": {},
   "outputs": [
    {
     "data": {
      "image/png": "[encoded data removed]",
      "text/plain": [
       "<Figure size 720x432 with 1 Axes>"
      ]
     },
     "metadata": {
      "needs_background": "light"
     },
     "output_type": "display_data"
    }
   ],
   "source": [
    "plt.figure(figsize=(10,6))\n",
    "ax=sns.countplot(x='HasCrCard',hue='Exited',data=dataset)\n",
    "plt.xticks(rotation=90,fontsize=14)\n",
    "for i in ax.patches:\n",
    "    # get_x pulls left or right; get_height pushes up or down\n",
    "    ax.text(i.get_x()+.04, i.get_height()+50 ,\n",
    "            str(round((i.get_height()), 2)), fontsize=15, color='black',\n",
    "                rotation=0)\n",
    "plt.show()"
   ]
  },
  {
   "cell_type": "code",
   "execution_count": 11,
   "metadata": {},
   "outputs": [],
   "source": [
    "dataset['SALARY']=pd.cut(dataset['EstimatedSalary'],bins=[0,50000,75000,100000,150000,200000],\n",
    "labels=[\"V.Poor\",\"Poor\",\"Modest\",\"Rich\",\"Very Rich\"])"
   ]
  },
  {
   "cell_type": "code",
   "execution_count": 12,
   "metadata": {},
   "outputs": [
    {
     "data": {
      "image/png": "[encoded data removed]",
      "text/plain": [
       "<Figure size 864x576 with 1 Axes>"
      ]
     },
     "metadata": {
      "needs_background": "light"
     },
     "output_type": "display_data"
    }
   ],
   "source": [
    "plt.figure(figsize=(12,8))\n",
    "ax=sns.countplot(x='SALARY',hue='Exited',data=dataset)\n",
    "plt.xticks(rotation=90,fontsize=14)\n",
    "for i in ax.patches:\n",
    "    # get_x pulls left or right; get_height pushes up or down\n",
    "    ax.text(i.get_x()+.04, i.get_height()+10 ,\n",
    "            str(round((i.get_height()), 2)), fontsize=15, color='black',\n",
    "                rotation=0)\n",
    "plt.show()"
   ]
  },
  {
   "cell_type": "code",
   "execution_count": null,
   "metadata": {},
   "outputs": [],
   "source": []
  },
  {
   "cell_type": "code",
   "execution_count": 13,
   "metadata": {},
   "outputs": [],
   "source": [
    "dataset['AGE_NEW']=pd.cut(dataset['Age'],bins=[0,20,40,60,75,100],\n",
    "labels=[\"Teenage\",\"Adult\",\"Old\",\"Sr Citizen\",\"Super sr citizen\"])"
   ]
  },
  {
   "cell_type": "code",
   "execution_count": 14,
   "metadata": {},
   "outputs": [
    {
     "data": {
      "image/png": "[encoded data removed]",
      "text/plain": [
       "<Figure size 864x576 with 1 Axes>"
      ]
     },
     "metadata": {
      "needs_background": "light"
     },
     "output_type": "display_data"
    }
   ],
   "source": [
    "plt.figure(figsize=(12,8))\n",
    "ax=sns.countplot(x='AGE_NEW',hue='Exited',data=dataset)\n",
    "plt.xticks(rotation=90,fontsize=14)\n",
    "for i in ax.patches:\n",
    "    # get_x pulls left or right; get_height pushes up or down\n",
    "    ax.text(i.get_x()+.04, i.get_height()+10 ,\n",
    "            str(round((i.get_height()), 2)), fontsize=15, color='black',\n",
    "                rotation=0)\n",
    "plt.show()"
   ]
  },
  {
   "cell_type": "code",
   "execution_count": 15,
   "metadata": {},
   "outputs": [
    {
     "data": {
      "text/plain": [
       "RowNumber           0.00\n",
       "CustomerId          0.00\n",
       "Surname             0.00\n",
       "CreditScore         0.00\n",
       "Geography           0.00\n",
       "Gender              0.00\n",
       "Age                 0.00\n",
       "Tenure              0.00\n",
       "Balance             0.00\n",
       "NumOfProducts       0.00\n",
       "HasCrCard           0.00\n",
       "IsActiveMember      0.00\n",
       "EstimatedSalary     0.00\n",
       "Exited              0.00\n",
       "Credit_score_new    0.05\n",
       "SALARY              0.00\n",
       "AGE_NEW             0.00\n",
       "dtype: float64"
      ]
     },
     "execution_count": 15,
     "metadata": {},
     "output_type": "execute_result"
    }
   ],
   "source": [
    "dataset.isnull().sum()/len(dataset.index)*100"
   ]
  },
  {
   "cell_type": "code",
   "execution_count": 16,
   "metadata": {},
   "outputs": [],
   "source": [
    "dataset.drop(['Age','CreditScore','RowNumber'],axis=1,inplace=True)"
   ]
  },
  {
   "cell_type": "code",
   "execution_count": 17,
   "metadata": {},
   "outputs": [],
   "source": [
    "dataset.drop('EstimatedSalary',axis=1,inplace=True)"
   ]
  },
  {
   "cell_type": "code",
   "execution_count": 18,
   "metadata": {},
   "outputs": [
    {
     "data": {
      "image/png": "[encoded data removed]",
      "text/plain": [
       "<Figure size 432x432 with 1 Axes>"
      ]
     },
     "metadata": {
      "needs_background": "light"
     },
     "output_type": "display_data"
    }
   ],
   "source": [
    "plt.figure(figsize=(6,6))\n",
    "ax=sns.countplot(x='IsActiveMember',hue='Exited',data=dataset)\n",
    "plt.xticks(rotation=90,fontsize=14)\n",
    "for i in ax.patches:\n",
    "    # get_x pulls left or right; get_height pushes up or down\n",
    "    ax.text(i.get_x()+.04, i.get_height()+0.001 ,\n",
    "            str(round((i.get_height()), 2)), fontsize=15, color='black',\n",
    "                rotation=0)\n",
    "plt.show()"
   ]
  },
  {
   "cell_type": "code",
   "execution_count": 19,
   "metadata": {},
   "outputs": [
    {
     "data": {
      "image/png": "[encoded data removed]",
      "text/plain": [
       "<Figure size 432x432 with 1 Axes>"
      ]
     },
     "metadata": {
      "needs_background": "light"
     },
     "output_type": "display_data"
    }
   ],
   "source": [
    "plt.figure(figsize=(6,6))\n",
    "ax=sns.countplot(x='Geography',hue='Exited',data=dataset)\n",
    "plt.xticks(rotation=90,fontsize=14)\n",
    "for i in ax.patches:\n",
    "    # get_x pulls left or right; get_height pushes up or down\n",
    "    ax.text(i.get_x()+.04, i.get_height()+0.001 ,\n",
    "            str(round((i.get_height()), 2)), fontsize=15, color='black',\n",
    "                rotation=0)\n",
    "plt.show()"
   ]
  },
  {
   "cell_type": "code",
   "execution_count": 20,
   "metadata": {
    "scrolled": false
   },
   "outputs": [
    {
     "data": {
      "image/png": "[encoded data removed]",
      "text/plain": [
       "<Figure size 432x432 with 1 Axes>"
      ]
     },
     "metadata": {
      "needs_background": "light"
     },
     "output_type": "display_data"
    }
   ],
   "source": [
    "plt.figure(figsize=(6,6))\n",
    "ax=sns.countplot(x='Gender',hue='Exited',data=dataset)\n",
    "plt.xticks(rotation=90,fontsize=14)\n",
    "for i in ax.patches:\n",
    "    # get_x pulls left or right; get_height pushes up or down\n",
    "    ax.text(i.get_x()+.04, i.get_height()+0.001 ,\n",
    "            str(round((i.get_height()), 2)), fontsize=15, color='black',\n",
    "                rotation=0)\n",
    "plt.show()"
   ]
  },
  {
   "cell_type": "code",
   "execution_count": 21,
   "metadata": {},
   "outputs": [
    {
     "data": {
      "text/html": [
       "<div>\n",
       "<style scoped>\n",
       "    .dataframe tbody tr th:only-of-type {\n",
       "        vertical-align: middle;\n",
       "    }\n",
       "\n",
       "    .dataframe tbody tr th {\n",
       "        vertical-align: top;\n",
       "    }\n",
       "\n",
       "    .dataframe thead th {\n",
       "        text-align: right;\n",
       "    }\n",
       "</style>\n",
       "<table border=\"1\" class=\"dataframe\">\n",
       "  <thead>\n",
       "    <tr style=\"text-align: right;\">\n",
       "      <th></th>\n",
       "      <th>CustomerId</th>\n",
       "      <th>Surname</th>\n",
       "      <th>Geography</th>\n",
       "      <th>Gender</th>\n",
       "      <th>Tenure</th>\n",
       "      <th>Balance</th>\n",
       "      <th>NumOfProducts</th>\n",
       "      <th>HasCrCard</th>\n",
       "      <th>IsActiveMember</th>\n",
       "      <th>Exited</th>\n",
       "      <th>Credit_score_new</th>\n",
       "      <th>SALARY</th>\n",
       "      <th>AGE_NEW</th>\n",
       "    </tr>\n",
       "  </thead>\n",
       "  <tbody>\n",
       "    <tr>\n",
       "      <th>0</th>\n",
       "      <td>15634602</td>\n",
       "      <td>Hargrave</td>\n",
       "      <td>France</td>\n",
       "      <td>1</td>\n",
       "      <td>2</td>\n",
       "      <td>0.00</td>\n",
       "      <td>1</td>\n",
       "      <td>1</td>\n",
       "      <td>1</td>\n",
       "      <td>1</td>\n",
       "      <td>Modest</td>\n",
       "      <td>Rich</td>\n",
       "      <td>Old</td>\n",
       "    </tr>\n",
       "    <tr>\n",
       "      <th>1</th>\n",
       "      <td>15647311</td>\n",
       "      <td>Hill</td>\n",
       "      <td>Spain</td>\n",
       "      <td>1</td>\n",
       "      <td>1</td>\n",
       "      <td>83807.86</td>\n",
       "      <td>1</td>\n",
       "      <td>0</td>\n",
       "      <td>1</td>\n",
       "      <td>0</td>\n",
       "      <td>Modest</td>\n",
       "      <td>Rich</td>\n",
       "      <td>Old</td>\n",
       "    </tr>\n",
       "    <tr>\n",
       "      <th>2</th>\n",
       "      <td>15619304</td>\n",
       "      <td>Onio</td>\n",
       "      <td>France</td>\n",
       "      <td>1</td>\n",
       "      <td>8</td>\n",
       "      <td>159660.80</td>\n",
       "      <td>3</td>\n",
       "      <td>1</td>\n",
       "      <td>0</td>\n",
       "      <td>1</td>\n",
       "      <td>Modest</td>\n",
       "      <td>Rich</td>\n",
       "      <td>Old</td>\n",
       "    </tr>\n",
       "    <tr>\n",
       "      <th>3</th>\n",
       "      <td>15701354</td>\n",
       "      <td>Boni</td>\n",
       "      <td>France</td>\n",
       "      <td>1</td>\n",
       "      <td>1</td>\n",
       "      <td>0.00</td>\n",
       "      <td>2</td>\n",
       "      <td>0</td>\n",
       "      <td>0</td>\n",
       "      <td>0</td>\n",
       "      <td>Modest</td>\n",
       "      <td>Modest</td>\n",
       "      <td>Adult</td>\n",
       "    </tr>\n",
       "    <tr>\n",
       "      <th>4</th>\n",
       "      <td>15737888</td>\n",
       "      <td>Mitchell</td>\n",
       "      <td>Spain</td>\n",
       "      <td>1</td>\n",
       "      <td>2</td>\n",
       "      <td>125510.82</td>\n",
       "      <td>1</td>\n",
       "      <td>1</td>\n",
       "      <td>1</td>\n",
       "      <td>0</td>\n",
       "      <td>Very_good</td>\n",
       "      <td>Modest</td>\n",
       "      <td>Old</td>\n",
       "    </tr>\n",
       "  </tbody>\n",
       "</table>\n",
       "</div>"
      ],
      "text/plain": [
       "   CustomerId   Surname Geography  Gender  Tenure    Balance  NumOfProducts  \\\n",
       "0    15634602  Hargrave    France       1       2       0.00              1   \n",
       "1    15647311      Hill     Spain       1       1   83807.86              1   \n",
       "2    15619304      Onio    France       1       8  159660.80              3   \n",
       "3    15701354      Boni    France       1       1       0.00              2   \n",
       "4    15737888  Mitchell     Spain       1       2  125510.82              1   \n",
       "\n",
       "   HasCrCard  IsActiveMember  Exited Credit_score_new  SALARY AGE_NEW  \n",
       "0          1               1       1           Modest    Rich     Old  \n",
       "1          0               1       0           Modest    Rich     Old  \n",
       "2          1               0       1           Modest    Rich     Old  \n",
       "3          0               0       0           Modest  Modest   Adult  \n",
       "4          1               1       0        Very_good  Modest     Old  "
      ]
     },
     "execution_count": 21,
     "metadata": {},
     "output_type": "execute_result"
    }
   ],
   "source": [
    "varlist =  ['Gender']\n",
    "# Defining the map function\n",
    "def binary_map(x):\n",
    "    return x.map({'Female': 1, \"Male\": 0})\n",
    "\n",
    "# Applying the function to the housing list\n",
    "dataset[varlist] =dataset[varlist].apply(binary_map)\n",
    "dataset.head()\n"
   ]
  },
  {
   "cell_type": "code",
   "execution_count": 22,
   "metadata": {},
   "outputs": [],
   "source": [
    "##Dropped those dummy variables, for which either created category or \"unknown\"\n",
    "cred=pd.get_dummies(dataset['Credit_score_new'],prefix='cr')\n",
    "cred=cred.drop('cr_Bad', axis=1)\n",
    "dataset=pd.concat([dataset,cred], axis=1)\n"
   ]
  },
  {
   "cell_type": "code",
   "execution_count": 23,
   "metadata": {},
   "outputs": [],
   "source": [
    "##Dropped those dummy variables, for which either created category or \"unknown\"\n",
    "geo=pd.get_dummies(dataset['Geography'],prefix='gg')\n",
    "geo=geo.drop('gg_France', axis=1)\n",
    "dataset=pd.concat([dataset,geo], axis=1)\n"
   ]
  },
  {
   "cell_type": "code",
   "execution_count": 24,
   "metadata": {},
   "outputs": [],
   "source": [
    "##Dropped those dummy variables, for which either created category or \"unknown\"\n",
    "ag=pd.get_dummies(dataset['AGE_NEW'],prefix='yrs')\n",
    "ag=ag.drop('yrs_Teenage', axis=1)\n",
    "dataset=pd.concat([dataset,ag], axis=1)\n"
   ]
  },
  {
   "cell_type": "code",
   "execution_count": 25,
   "metadata": {},
   "outputs": [],
   "source": [
    "##Dropped those dummy variables, for which either created category or \"unknown\"\n",
    "sal=pd.get_dummies(dataset['SALARY'],prefix='sl')\n",
    "sal=sal.drop('sl_Poor', axis=1)\n",
    "dataset=pd.concat([dataset,sal], axis=1)\n"
   ]
  },
  {
   "cell_type": "code",
   "execution_count": 26,
   "metadata": {
    "scrolled": true
   },
   "outputs": [],
   "source": [
    "dataset.drop(['Gender','Geography','SALARY','AGE_NEW','Credit_score_new','Surname'],axis=1,inplace=True)"
   ]
  },
  {
   "cell_type": "code",
   "execution_count": 27,
   "metadata": {},
   "outputs": [
    {
     "data": {
      "text/plain": [
       "Index(['CustomerId', 'Tenure', 'Balance', 'NumOfProducts', 'HasCrCard',\n",
       "       'IsActiveMember', 'Exited', 'cr_Modest', 'cr_Good', 'cr_Very_good',\n",
       "       'gg_Germany', 'gg_Spain', 'yrs_Adult', 'yrs_Old', 'yrs_Sr Citizen',\n",
       "       'yrs_Super sr citizen', 'sl_V.Poor', 'sl_Modest', 'sl_Rich',\n",
       "       'sl_Very Rich'],\n",
       "      dtype='object')"
      ]
     },
     "execution_count": 27,
     "metadata": {},
     "output_type": "execute_result"
    }
   ],
   "source": [
    "dataset.columns"
   ]
  },
  {
   "cell_type": "markdown",
   "metadata": {},
   "source": [
    "### Preprocessing of data."
   ]
  },
  {
   "cell_type": "code",
   "execution_count": 28,
   "metadata": {},
   "outputs": [
    {
     "data": {
      "text/html": [
       "<div>\n",
       "<style scoped>\n",
       "    .dataframe tbody tr th:only-of-type {\n",
       "        vertical-align: middle;\n",
       "    }\n",
       "\n",
       "    .dataframe tbody tr th {\n",
       "        vertical-align: top;\n",
       "    }\n",
       "\n",
       "    .dataframe thead th {\n",
       "        text-align: right;\n",
       "    }\n",
       "</style>\n",
       "<table border=\"1\" class=\"dataframe\">\n",
       "  <thead>\n",
       "    <tr style=\"text-align: right;\">\n",
       "      <th></th>\n",
       "      <th>Tenure</th>\n",
       "      <th>Balance</th>\n",
       "      <th>NumOfProducts</th>\n",
       "      <th>HasCrCard</th>\n",
       "      <th>IsActiveMember</th>\n",
       "      <th>cr_Modest</th>\n",
       "      <th>cr_Good</th>\n",
       "      <th>cr_Very_good</th>\n",
       "      <th>gg_Germany</th>\n",
       "      <th>gg_Spain</th>\n",
       "      <th>yrs_Adult</th>\n",
       "      <th>yrs_Old</th>\n",
       "      <th>yrs_Sr Citizen</th>\n",
       "      <th>yrs_Super sr citizen</th>\n",
       "      <th>sl_V.Poor</th>\n",
       "      <th>sl_Modest</th>\n",
       "      <th>sl_Rich</th>\n",
       "      <th>sl_Very Rich</th>\n",
       "    </tr>\n",
       "  </thead>\n",
       "  <tbody>\n",
       "    <tr>\n",
       "      <th>0</th>\n",
       "      <td>2</td>\n",
       "      <td>0.00</td>\n",
       "      <td>1</td>\n",
       "      <td>1</td>\n",
       "      <td>1</td>\n",
       "      <td>1</td>\n",
       "      <td>0</td>\n",
       "      <td>0</td>\n",
       "      <td>0</td>\n",
       "      <td>0</td>\n",
       "      <td>0</td>\n",
       "      <td>1</td>\n",
       "      <td>0</td>\n",
       "      <td>0</td>\n",
       "      <td>0</td>\n",
       "      <td>0</td>\n",
       "      <td>1</td>\n",
       "      <td>0</td>\n",
       "    </tr>\n",
       "    <tr>\n",
       "      <th>1</th>\n",
       "      <td>1</td>\n",
       "      <td>83807.86</td>\n",
       "      <td>1</td>\n",
       "      <td>0</td>\n",
       "      <td>1</td>\n",
       "      <td>1</td>\n",
       "      <td>0</td>\n",
       "      <td>0</td>\n",
       "      <td>0</td>\n",
       "      <td>1</td>\n",
       "      <td>0</td>\n",
       "      <td>1</td>\n",
       "      <td>0</td>\n",
       "      <td>0</td>\n",
       "      <td>0</td>\n",
       "      <td>0</td>\n",
       "      <td>1</td>\n",
       "      <td>0</td>\n",
       "    </tr>\n",
       "    <tr>\n",
       "      <th>2</th>\n",
       "      <td>8</td>\n",
       "      <td>159660.80</td>\n",
       "      <td>3</td>\n",
       "      <td>1</td>\n",
       "      <td>0</td>\n",
       "      <td>1</td>\n",
       "      <td>0</td>\n",
       "      <td>0</td>\n",
       "      <td>0</td>\n",
       "      <td>0</td>\n",
       "      <td>0</td>\n",
       "      <td>1</td>\n",
       "      <td>0</td>\n",
       "      <td>0</td>\n",
       "      <td>0</td>\n",
       "      <td>0</td>\n",
       "      <td>1</td>\n",
       "      <td>0</td>\n",
       "    </tr>\n",
       "    <tr>\n",
       "      <th>3</th>\n",
       "      <td>1</td>\n",
       "      <td>0.00</td>\n",
       "      <td>2</td>\n",
       "      <td>0</td>\n",
       "      <td>0</td>\n",
       "      <td>1</td>\n",
       "      <td>0</td>\n",
       "      <td>0</td>\n",
       "      <td>0</td>\n",
       "      <td>0</td>\n",
       "      <td>1</td>\n",
       "      <td>0</td>\n",
       "      <td>0</td>\n",
       "      <td>0</td>\n",
       "      <td>0</td>\n",
       "      <td>1</td>\n",
       "      <td>0</td>\n",
       "      <td>0</td>\n",
       "    </tr>\n",
       "    <tr>\n",
       "      <th>4</th>\n",
       "      <td>2</td>\n",
       "      <td>125510.82</td>\n",
       "      <td>1</td>\n",
       "      <td>1</td>\n",
       "      <td>1</td>\n",
       "      <td>0</td>\n",
       "      <td>0</td>\n",
       "      <td>1</td>\n",
       "      <td>0</td>\n",
       "      <td>1</td>\n",
       "      <td>0</td>\n",
       "      <td>1</td>\n",
       "      <td>0</td>\n",
       "      <td>0</td>\n",
       "      <td>0</td>\n",
       "      <td>1</td>\n",
       "      <td>0</td>\n",
       "      <td>0</td>\n",
       "    </tr>\n",
       "  </tbody>\n",
       "</table>\n",
       "</div>"
      ],
      "text/plain": [
       "   Tenure    Balance  NumOfProducts  HasCrCard  IsActiveMember  cr_Modest  \\\n",
       "0       2       0.00              1          1               1          1   \n",
       "1       1   83807.86              1          0               1          1   \n",
       "2       8  159660.80              3          1               0          1   \n",
       "3       1       0.00              2          0               0          1   \n",
       "4       2  125510.82              1          1               1          0   \n",
       "\n",
       "   cr_Good  cr_Very_good  gg_Germany  gg_Spain  yrs_Adult  yrs_Old  \\\n",
       "0        0             0           0         0          0        1   \n",
       "1        0             0           0         1          0        1   \n",
       "2        0             0           0         0          0        1   \n",
       "3        0             0           0         0          1        0   \n",
       "4        0             1           0         1          0        1   \n",
       "\n",
       "   yrs_Sr Citizen  yrs_Super sr citizen  sl_V.Poor  sl_Modest  sl_Rich  \\\n",
       "0               0                     0          0          0        1   \n",
       "1               0                     0          0          0        1   \n",
       "2               0                     0          0          0        1   \n",
       "3               0                     0          0          1        0   \n",
       "4               0                     0          0          1        0   \n",
       "\n",
       "   sl_Very Rich  \n",
       "0             0  \n",
       "1             0  \n",
       "2             0  \n",
       "3             0  \n",
       "4             0  "
      ]
     },
     "execution_count": 28,
     "metadata": {},
     "output_type": "execute_result"
    }
   ],
   "source": [
    "X = dataset.drop(['CustomerId','Exited'],axis=1)\n",
    "X.head()"
   ]
  },
  {
   "cell_type": "code",
   "execution_count": 29,
   "metadata": {},
   "outputs": [
    {
     "data": {
      "text/html": [
       "<div>\n",
       "<style scoped>\n",
       "    .dataframe tbody tr th:only-of-type {\n",
       "        vertical-align: middle;\n",
       "    }\n",
       "\n",
       "    .dataframe tbody tr th {\n",
       "        vertical-align: top;\n",
       "    }\n",
       "\n",
       "    .dataframe thead th {\n",
       "        text-align: right;\n",
       "    }\n",
       "</style>\n",
       "<table border=\"1\" class=\"dataframe\">\n",
       "  <thead>\n",
       "    <tr style=\"text-align: right;\">\n",
       "      <th></th>\n",
       "      <th>Tenure</th>\n",
       "      <th>Balance</th>\n",
       "      <th>NumOfProducts</th>\n",
       "      <th>HasCrCard</th>\n",
       "      <th>IsActiveMember</th>\n",
       "      <th>cr_Modest</th>\n",
       "      <th>cr_Good</th>\n",
       "      <th>cr_Very_good</th>\n",
       "      <th>gg_Germany</th>\n",
       "      <th>gg_Spain</th>\n",
       "      <th>yrs_Adult</th>\n",
       "      <th>yrs_Old</th>\n",
       "      <th>yrs_Sr Citizen</th>\n",
       "      <th>yrs_Super sr citizen</th>\n",
       "      <th>sl_V.Poor</th>\n",
       "      <th>sl_Modest</th>\n",
       "      <th>sl_Rich</th>\n",
       "      <th>sl_Very Rich</th>\n",
       "    </tr>\n",
       "  </thead>\n",
       "  <tbody>\n",
       "    <tr>\n",
       "      <th>count</th>\n",
       "      <td>10000.000000</td>\n",
       "      <td>10000.000000</td>\n",
       "      <td>10000.000000</td>\n",
       "      <td>10000.00000</td>\n",
       "      <td>10000.000000</td>\n",
       "      <td>10000.000000</td>\n",
       "      <td>10000.000000</td>\n",
       "      <td>10000.000000</td>\n",
       "      <td>10000.000000</td>\n",
       "      <td>10000.000000</td>\n",
       "      <td>10000.000000</td>\n",
       "      <td>10000.000000</td>\n",
       "      <td>10000.000000</td>\n",
       "      <td>10000.000000</td>\n",
       "      <td>10000.000000</td>\n",
       "      <td>10000.000000</td>\n",
       "      <td>10000.000000</td>\n",
       "      <td>10000.000000</td>\n",
       "    </tr>\n",
       "    <tr>\n",
       "      <th>mean</th>\n",
       "      <td>5.012800</td>\n",
       "      <td>76485.889288</td>\n",
       "      <td>1.530200</td>\n",
       "      <td>0.70550</td>\n",
       "      <td>0.515100</td>\n",
       "      <td>0.624100</td>\n",
       "      <td>0.247100</td>\n",
       "      <td>0.064500</td>\n",
       "      <td>0.250900</td>\n",
       "      <td>0.247700</td>\n",
       "      <td>0.633000</td>\n",
       "      <td>0.311700</td>\n",
       "      <td>0.041900</td>\n",
       "      <td>0.004500</td>\n",
       "      <td>0.245300</td>\n",
       "      <td>0.126800</td>\n",
       "      <td>0.255500</td>\n",
       "      <td>0.245500</td>\n",
       "    </tr>\n",
       "    <tr>\n",
       "      <th>std</th>\n",
       "      <td>2.892174</td>\n",
       "      <td>62397.405202</td>\n",
       "      <td>0.581654</td>\n",
       "      <td>0.45584</td>\n",
       "      <td>0.499797</td>\n",
       "      <td>0.484379</td>\n",
       "      <td>0.431347</td>\n",
       "      <td>0.245654</td>\n",
       "      <td>0.433553</td>\n",
       "      <td>0.431698</td>\n",
       "      <td>0.482011</td>\n",
       "      <td>0.463211</td>\n",
       "      <td>0.200371</td>\n",
       "      <td>0.066934</td>\n",
       "      <td>0.430286</td>\n",
       "      <td>0.332765</td>\n",
       "      <td>0.436164</td>\n",
       "      <td>0.430405</td>\n",
       "    </tr>\n",
       "    <tr>\n",
       "      <th>min</th>\n",
       "      <td>0.000000</td>\n",
       "      <td>0.000000</td>\n",
       "      <td>1.000000</td>\n",
       "      <td>0.00000</td>\n",
       "      <td>0.000000</td>\n",
       "      <td>0.000000</td>\n",
       "      <td>0.000000</td>\n",
       "      <td>0.000000</td>\n",
       "      <td>0.000000</td>\n",
       "      <td>0.000000</td>\n",
       "      <td>0.000000</td>\n",
       "      <td>0.000000</td>\n",
       "      <td>0.000000</td>\n",
       "      <td>0.000000</td>\n",
       "      <td>0.000000</td>\n",
       "      <td>0.000000</td>\n",
       "      <td>0.000000</td>\n",
       "      <td>0.000000</td>\n",
       "    </tr>\n",
       "    <tr>\n",
       "      <th>25%</th>\n",
       "      <td>3.000000</td>\n",
       "      <td>0.000000</td>\n",
       "      <td>1.000000</td>\n",
       "      <td>0.00000</td>\n",
       "      <td>0.000000</td>\n",
       "      <td>0.000000</td>\n",
       "      <td>0.000000</td>\n",
       "      <td>0.000000</td>\n",
       "      <td>0.000000</td>\n",
       "      <td>0.000000</td>\n",
       "      <td>0.000000</td>\n",
       "      <td>0.000000</td>\n",
       "      <td>0.000000</td>\n",
       "      <td>0.000000</td>\n",
       "      <td>0.000000</td>\n",
       "      <td>0.000000</td>\n",
       "      <td>0.000000</td>\n",
       "      <td>0.000000</td>\n",
       "    </tr>\n",
       "    <tr>\n",
       "      <th>50%</th>\n",
       "      <td>5.000000</td>\n",
       "      <td>97198.540000</td>\n",
       "      <td>1.000000</td>\n",
       "      <td>1.00000</td>\n",
       "      <td>1.000000</td>\n",
       "      <td>1.000000</td>\n",
       "      <td>0.000000</td>\n",
       "      <td>0.000000</td>\n",
       "      <td>0.000000</td>\n",
       "      <td>0.000000</td>\n",
       "      <td>1.000000</td>\n",
       "      <td>0.000000</td>\n",
       "      <td>0.000000</td>\n",
       "      <td>0.000000</td>\n",
       "      <td>0.000000</td>\n",
       "      <td>0.000000</td>\n",
       "      <td>0.000000</td>\n",
       "      <td>0.000000</td>\n",
       "    </tr>\n",
       "    <tr>\n",
       "      <th>75%</th>\n",
       "      <td>7.000000</td>\n",
       "      <td>127644.240000</td>\n",
       "      <td>2.000000</td>\n",
       "      <td>1.00000</td>\n",
       "      <td>1.000000</td>\n",
       "      <td>1.000000</td>\n",
       "      <td>0.000000</td>\n",
       "      <td>0.000000</td>\n",
       "      <td>1.000000</td>\n",
       "      <td>0.000000</td>\n",
       "      <td>1.000000</td>\n",
       "      <td>1.000000</td>\n",
       "      <td>0.000000</td>\n",
       "      <td>0.000000</td>\n",
       "      <td>0.000000</td>\n",
       "      <td>0.000000</td>\n",
       "      <td>1.000000</td>\n",
       "      <td>0.000000</td>\n",
       "    </tr>\n",
       "    <tr>\n",
       "      <th>max</th>\n",
       "      <td>10.000000</td>\n",
       "      <td>250898.090000</td>\n",
       "      <td>4.000000</td>\n",
       "      <td>1.00000</td>\n",
       "      <td>1.000000</td>\n",
       "      <td>1.000000</td>\n",
       "      <td>1.000000</td>\n",
       "      <td>1.000000</td>\n",
       "      <td>1.000000</td>\n",
       "      <td>1.000000</td>\n",
       "      <td>1.000000</td>\n",
       "      <td>1.000000</td>\n",
       "      <td>1.000000</td>\n",
       "      <td>1.000000</td>\n",
       "      <td>1.000000</td>\n",
       "      <td>1.000000</td>\n",
       "      <td>1.000000</td>\n",
       "      <td>1.000000</td>\n",
       "    </tr>\n",
       "  </tbody>\n",
       "</table>\n",
       "</div>"
      ],
      "text/plain": [
       "             Tenure        Balance  NumOfProducts    HasCrCard  \\\n",
       "count  10000.000000   10000.000000   10000.000000  10000.00000   \n",
       "mean       5.012800   76485.889288       1.530200      0.70550   \n",
       "std        2.892174   62397.405202       0.581654      0.45584   \n",
       "min        0.000000       0.000000       1.000000      0.00000   \n",
       "25%        3.000000       0.000000       1.000000      0.00000   \n",
       "50%        5.000000   97198.540000       1.000000      1.00000   \n",
       "75%        7.000000  127644.240000       2.000000      1.00000   \n",
       "max       10.000000  250898.090000       4.000000      1.00000   \n",
       "\n",
       "       IsActiveMember     cr_Modest       cr_Good  cr_Very_good    gg_Germany  \\\n",
       "count    10000.000000  10000.000000  10000.000000  10000.000000  10000.000000   \n",
       "mean         0.515100      0.624100      0.247100      0.064500      0.250900   \n",
       "std          0.499797      0.484379      0.431347      0.245654      0.433553   \n",
       "min          0.000000      0.000000      0.000000      0.000000      0.000000   \n",
       "25%          0.000000      0.000000      0.000000      0.000000      0.000000   \n",
       "50%          1.000000      1.000000      0.000000      0.000000      0.000000   \n",
       "75%          1.000000      1.000000      0.000000      0.000000      1.000000   \n",
       "max          1.000000      1.000000      1.000000      1.000000      1.000000   \n",
       "\n",
       "           gg_Spain     yrs_Adult       yrs_Old  yrs_Sr Citizen  \\\n",
       "count  10000.000000  10000.000000  10000.000000    10000.000000   \n",
       "mean       0.247700      0.633000      0.311700        0.041900   \n",
       "std        0.431698      0.482011      0.463211        0.200371   \n",
       "min        0.000000      0.000000      0.000000        0.000000   \n",
       "25%        0.000000      0.000000      0.000000        0.000000   \n",
       "50%        0.000000      1.000000      0.000000        0.000000   \n",
       "75%        0.000000      1.000000      1.000000        0.000000   \n",
       "max        1.000000      1.000000      1.000000        1.000000   \n",
       "\n",
       "       yrs_Super sr citizen     sl_V.Poor     sl_Modest       sl_Rich  \\\n",
       "count          10000.000000  10000.000000  10000.000000  10000.000000   \n",
       "mean               0.004500      0.245300      0.126800      0.255500   \n",
       "std                0.066934      0.430286      0.332765      0.436164   \n",
       "min                0.000000      0.000000      0.000000      0.000000   \n",
       "25%                0.000000      0.000000      0.000000      0.000000   \n",
       "50%                0.000000      0.000000      0.000000      0.000000   \n",
       "75%                0.000000      0.000000      0.000000      1.000000   \n",
       "max                1.000000      1.000000      1.000000      1.000000   \n",
       "\n",
       "       sl_Very Rich  \n",
       "count  10000.000000  \n",
       "mean       0.245500  \n",
       "std        0.430405  \n",
       "min        0.000000  \n",
       "25%        0.000000  \n",
       "50%        0.000000  \n",
       "75%        0.000000  \n",
       "max        1.000000  "
      ]
     },
     "execution_count": 29,
     "metadata": {},
     "output_type": "execute_result"
    }
   ],
   "source": [
    "X.describe()"
   ]
  },
  {
   "cell_type": "code",
   "execution_count": 30,
   "metadata": {},
   "outputs": [
    {
     "data": {
      "text/plain": [
       "0    1\n",
       "1    0\n",
       "2    1\n",
       "3    0\n",
       "4    0\n",
       "Name: Exited, dtype: int64"
      ]
     },
     "execution_count": 30,
     "metadata": {},
     "output_type": "execute_result"
    }
   ],
   "source": [
    "y=dataset['Exited']\n",
    "y.head()"
   ]
  },
  {
   "cell_type": "markdown",
   "metadata": {},
   "source": [
    "### Encoding categorical data"
   ]
  },
  {
   "cell_type": "code",
   "execution_count": 31,
   "metadata": {},
   "outputs": [
    {
     "data": {
      "text/plain": [
       "20.37"
      ]
     },
     "execution_count": 31,
     "metadata": {},
     "output_type": "execute_result"
    }
   ],
   "source": [
    "converted=round((sum(dataset['Exited'])/len(dataset['Exited'].index))*100,2)\n",
    "converted"
   ]
  },
  {
   "cell_type": "code",
   "execution_count": 32,
   "metadata": {},
   "outputs": [],
   "source": [
    "cols=dataset.columns\n",
    "dataset[cols]=dataset[cols].apply(pd.to_numeric,errors='coerce')"
   ]
  },
  {
   "cell_type": "markdown",
   "metadata": {},
   "source": [
    "### Splitting the dataset into the Training set and Test set"
   ]
  },
  {
   "cell_type": "code",
   "execution_count": 33,
   "metadata": {},
   "outputs": [],
   "source": [
    "from sklearn.model_selection import train_test_split\n",
    "X_train, X_test, y_train, y_test = train_test_split(X, y, test_size = 0.2, random_state = 0)\n",
    "\n"
   ]
  },
  {
   "cell_type": "code",
   "execution_count": 34,
   "metadata": {},
   "outputs": [
    {
     "data": {
      "text/html": [
       "<div>\n",
       "<style scoped>\n",
       "    .dataframe tbody tr th:only-of-type {\n",
       "        vertical-align: middle;\n",
       "    }\n",
       "\n",
       "    .dataframe tbody tr th {\n",
       "        vertical-align: top;\n",
       "    }\n",
       "\n",
       "    .dataframe thead th {\n",
       "        text-align: right;\n",
       "    }\n",
       "</style>\n",
       "<table border=\"1\" class=\"dataframe\">\n",
       "  <thead>\n",
       "    <tr style=\"text-align: right;\">\n",
       "      <th></th>\n",
       "      <th>Tenure</th>\n",
       "      <th>Balance</th>\n",
       "      <th>NumOfProducts</th>\n",
       "      <th>HasCrCard</th>\n",
       "      <th>IsActiveMember</th>\n",
       "      <th>cr_Modest</th>\n",
       "      <th>cr_Good</th>\n",
       "      <th>cr_Very_good</th>\n",
       "      <th>gg_Germany</th>\n",
       "      <th>gg_Spain</th>\n",
       "      <th>yrs_Adult</th>\n",
       "      <th>yrs_Old</th>\n",
       "      <th>yrs_Sr Citizen</th>\n",
       "      <th>yrs_Super sr citizen</th>\n",
       "      <th>sl_V.Poor</th>\n",
       "      <th>sl_Modest</th>\n",
       "      <th>sl_Rich</th>\n",
       "      <th>sl_Very Rich</th>\n",
       "    </tr>\n",
       "  </thead>\n",
       "  <tbody>\n",
       "    <tr>\n",
       "      <th>count</th>\n",
       "      <td>8000.000000</td>\n",
       "      <td>8000.000000</td>\n",
       "      <td>8000.000000</td>\n",
       "      <td>8000.000000</td>\n",
       "      <td>8000.000000</td>\n",
       "      <td>8000.000000</td>\n",
       "      <td>8000.000000</td>\n",
       "      <td>8000.000000</td>\n",
       "      <td>8000.000000</td>\n",
       "      <td>8000.000000</td>\n",
       "      <td>8000.000000</td>\n",
       "      <td>8000.000000</td>\n",
       "      <td>8000.000000</td>\n",
       "      <td>8000.000000</td>\n",
       "      <td>8000.000000</td>\n",
       "      <td>8000.000000</td>\n",
       "      <td>8000.000000</td>\n",
       "      <td>8000.000000</td>\n",
       "    </tr>\n",
       "    <tr>\n",
       "      <th>mean</th>\n",
       "      <td>4.980750</td>\n",
       "      <td>76076.504201</td>\n",
       "      <td>1.532375</td>\n",
       "      <td>0.707750</td>\n",
       "      <td>0.515875</td>\n",
       "      <td>0.621875</td>\n",
       "      <td>0.247750</td>\n",
       "      <td>0.065000</td>\n",
       "      <td>0.245125</td>\n",
       "      <td>0.247625</td>\n",
       "      <td>0.635875</td>\n",
       "      <td>0.310500</td>\n",
       "      <td>0.040750</td>\n",
       "      <td>0.004625</td>\n",
       "      <td>0.244250</td>\n",
       "      <td>0.126500</td>\n",
       "      <td>0.253625</td>\n",
       "      <td>0.247625</td>\n",
       "    </tr>\n",
       "    <tr>\n",
       "      <th>std</th>\n",
       "      <td>2.890142</td>\n",
       "      <td>62581.364700</td>\n",
       "      <td>0.577705</td>\n",
       "      <td>0.454825</td>\n",
       "      <td>0.499779</td>\n",
       "      <td>0.484949</td>\n",
       "      <td>0.431733</td>\n",
       "      <td>0.246541</td>\n",
       "      <td>0.430188</td>\n",
       "      <td>0.431660</td>\n",
       "      <td>0.481214</td>\n",
       "      <td>0.462727</td>\n",
       "      <td>0.197723</td>\n",
       "      <td>0.067854</td>\n",
       "      <td>0.429668</td>\n",
       "      <td>0.332433</td>\n",
       "      <td>0.435113</td>\n",
       "      <td>0.431660</td>\n",
       "    </tr>\n",
       "    <tr>\n",
       "      <th>min</th>\n",
       "      <td>0.000000</td>\n",
       "      <td>0.000000</td>\n",
       "      <td>1.000000</td>\n",
       "      <td>0.000000</td>\n",
       "      <td>0.000000</td>\n",
       "      <td>0.000000</td>\n",
       "      <td>0.000000</td>\n",
       "      <td>0.000000</td>\n",
       "      <td>0.000000</td>\n",
       "      <td>0.000000</td>\n",
       "      <td>0.000000</td>\n",
       "      <td>0.000000</td>\n",
       "      <td>0.000000</td>\n",
       "      <td>0.000000</td>\n",
       "      <td>0.000000</td>\n",
       "      <td>0.000000</td>\n",
       "      <td>0.000000</td>\n",
       "      <td>0.000000</td>\n",
       "    </tr>\n",
       "    <tr>\n",
       "      <th>25%</th>\n",
       "      <td>2.000000</td>\n",
       "      <td>0.000000</td>\n",
       "      <td>1.000000</td>\n",
       "      <td>0.000000</td>\n",
       "      <td>0.000000</td>\n",
       "      <td>0.000000</td>\n",
       "      <td>0.000000</td>\n",
       "      <td>0.000000</td>\n",
       "      <td>0.000000</td>\n",
       "      <td>0.000000</td>\n",
       "      <td>0.000000</td>\n",
       "      <td>0.000000</td>\n",
       "      <td>0.000000</td>\n",
       "      <td>0.000000</td>\n",
       "      <td>0.000000</td>\n",
       "      <td>0.000000</td>\n",
       "      <td>0.000000</td>\n",
       "      <td>0.000000</td>\n",
       "    </tr>\n",
       "    <tr>\n",
       "      <th>50%</th>\n",
       "      <td>5.000000</td>\n",
       "      <td>96870.170000</td>\n",
       "      <td>1.000000</td>\n",
       "      <td>1.000000</td>\n",
       "      <td>1.000000</td>\n",
       "      <td>1.000000</td>\n",
       "      <td>0.000000</td>\n",
       "      <td>0.000000</td>\n",
       "      <td>0.000000</td>\n",
       "      <td>0.000000</td>\n",
       "      <td>1.000000</td>\n",
       "      <td>0.000000</td>\n",
       "      <td>0.000000</td>\n",
       "      <td>0.000000</td>\n",
       "      <td>0.000000</td>\n",
       "      <td>0.000000</td>\n",
       "      <td>0.000000</td>\n",
       "      <td>0.000000</td>\n",
       "    </tr>\n",
       "    <tr>\n",
       "      <th>75%</th>\n",
       "      <td>7.000000</td>\n",
       "      <td>127540.865000</td>\n",
       "      <td>2.000000</td>\n",
       "      <td>1.000000</td>\n",
       "      <td>1.000000</td>\n",
       "      <td>1.000000</td>\n",
       "      <td>0.000000</td>\n",
       "      <td>0.000000</td>\n",
       "      <td>0.000000</td>\n",
       "      <td>0.000000</td>\n",
       "      <td>1.000000</td>\n",
       "      <td>1.000000</td>\n",
       "      <td>0.000000</td>\n",
       "      <td>0.000000</td>\n",
       "      <td>0.000000</td>\n",
       "      <td>0.000000</td>\n",
       "      <td>1.000000</td>\n",
       "      <td>0.000000</td>\n",
       "    </tr>\n",
       "    <tr>\n",
       "      <th>max</th>\n",
       "      <td>10.000000</td>\n",
       "      <td>238387.560000</td>\n",
       "      <td>4.000000</td>\n",
       "      <td>1.000000</td>\n",
       "      <td>1.000000</td>\n",
       "      <td>1.000000</td>\n",
       "      <td>1.000000</td>\n",
       "      <td>1.000000</td>\n",
       "      <td>1.000000</td>\n",
       "      <td>1.000000</td>\n",
       "      <td>1.000000</td>\n",
       "      <td>1.000000</td>\n",
       "      <td>1.000000</td>\n",
       "      <td>1.000000</td>\n",
       "      <td>1.000000</td>\n",
       "      <td>1.000000</td>\n",
       "      <td>1.000000</td>\n",
       "      <td>1.000000</td>\n",
       "    </tr>\n",
       "  </tbody>\n",
       "</table>\n",
       "</div>"
      ],
      "text/plain": [
       "            Tenure        Balance  NumOfProducts    HasCrCard  IsActiveMember  \\\n",
       "count  8000.000000    8000.000000    8000.000000  8000.000000     8000.000000   \n",
       "mean      4.980750   76076.504201       1.532375     0.707750        0.515875   \n",
       "std       2.890142   62581.364700       0.577705     0.454825        0.499779   \n",
       "min       0.000000       0.000000       1.000000     0.000000        0.000000   \n",
       "25%       2.000000       0.000000       1.000000     0.000000        0.000000   \n",
       "50%       5.000000   96870.170000       1.000000     1.000000        1.000000   \n",
       "75%       7.000000  127540.865000       2.000000     1.000000        1.000000   \n",
       "max      10.000000  238387.560000       4.000000     1.000000        1.000000   \n",
       "\n",
       "         cr_Modest      cr_Good  cr_Very_good   gg_Germany     gg_Spain  \\\n",
       "count  8000.000000  8000.000000   8000.000000  8000.000000  8000.000000   \n",
       "mean      0.621875     0.247750      0.065000     0.245125     0.247625   \n",
       "std       0.484949     0.431733      0.246541     0.430188     0.431660   \n",
       "min       0.000000     0.000000      0.000000     0.000000     0.000000   \n",
       "25%       0.000000     0.000000      0.000000     0.000000     0.000000   \n",
       "50%       1.000000     0.000000      0.000000     0.000000     0.000000   \n",
       "75%       1.000000     0.000000      0.000000     0.000000     0.000000   \n",
       "max       1.000000     1.000000      1.000000     1.000000     1.000000   \n",
       "\n",
       "         yrs_Adult      yrs_Old  yrs_Sr Citizen  yrs_Super sr citizen  \\\n",
       "count  8000.000000  8000.000000     8000.000000           8000.000000   \n",
       "mean      0.635875     0.310500        0.040750              0.004625   \n",
       "std       0.481214     0.462727        0.197723              0.067854   \n",
       "min       0.000000     0.000000        0.000000              0.000000   \n",
       "25%       0.000000     0.000000        0.000000              0.000000   \n",
       "50%       1.000000     0.000000        0.000000              0.000000   \n",
       "75%       1.000000     1.000000        0.000000              0.000000   \n",
       "max       1.000000     1.000000        1.000000              1.000000   \n",
       "\n",
       "         sl_V.Poor    sl_Modest      sl_Rich  sl_Very Rich  \n",
       "count  8000.000000  8000.000000  8000.000000   8000.000000  \n",
       "mean      0.244250     0.126500     0.253625      0.247625  \n",
       "std       0.429668     0.332433     0.435113      0.431660  \n",
       "min       0.000000     0.000000     0.000000      0.000000  \n",
       "25%       0.000000     0.000000     0.000000      0.000000  \n",
       "50%       0.000000     0.000000     0.000000      0.000000  \n",
       "75%       0.000000     0.000000     1.000000      0.000000  \n",
       "max       1.000000     1.000000     1.000000      1.000000  "
      ]
     },
     "execution_count": 34,
     "metadata": {},
     "output_type": "execute_result"
    }
   ],
   "source": [
    "X_train.describe()"
   ]
  },
  {
   "cell_type": "markdown",
   "metadata": {},
   "source": [
    "### Feature Scaling\n"
   ]
  },
  {
   "cell_type": "code",
   "execution_count": 35,
   "metadata": {},
   "outputs": [
    {
     "name": "stderr",
     "output_type": "stream",
     "text": [
      "C:\\Users\\apurv\\Anaconda3\\lib\\site-packages\\ipykernel_launcher.py:3: SettingWithCopyWarning: \n",
      "A value is trying to be set on a copy of a slice from a DataFrame.\n",
      "Try using .loc[row_indexer,col_indexer] = value instead\n",
      "\n",
      "See the caveats in the documentation: http://pandas.pydata.org/pandas-docs/stable/indexing.html#indexing-view-versus-copy\n",
      "  This is separate from the ipykernel package so we can avoid doing imports until\n",
      "C:\\Users\\apurv\\Anaconda3\\lib\\site-packages\\pandas\\core\\indexing.py:543: SettingWithCopyWarning: \n",
      "A value is trying to be set on a copy of a slice from a DataFrame.\n",
      "Try using .loc[row_indexer,col_indexer] = value instead\n",
      "\n",
      "See the caveats in the documentation: http://pandas.pydata.org/pandas-docs/stable/indexing.html#indexing-view-versus-copy\n",
      "  self.obj[item] = s\n"
     ]
    },
    {
     "data": {
      "text/html": [
       "<div>\n",
       "<style scoped>\n",
       "    .dataframe tbody tr th:only-of-type {\n",
       "        vertical-align: middle;\n",
       "    }\n",
       "\n",
       "    .dataframe tbody tr th {\n",
       "        vertical-align: top;\n",
       "    }\n",
       "\n",
       "    .dataframe thead th {\n",
       "        text-align: right;\n",
       "    }\n",
       "</style>\n",
       "<table border=\"1\" class=\"dataframe\">\n",
       "  <thead>\n",
       "    <tr style=\"text-align: right;\">\n",
       "      <th></th>\n",
       "      <th>Tenure</th>\n",
       "      <th>Balance</th>\n",
       "      <th>NumOfProducts</th>\n",
       "      <th>HasCrCard</th>\n",
       "      <th>IsActiveMember</th>\n",
       "      <th>cr_Modest</th>\n",
       "      <th>cr_Good</th>\n",
       "      <th>cr_Very_good</th>\n",
       "      <th>gg_Germany</th>\n",
       "      <th>gg_Spain</th>\n",
       "      <th>yrs_Adult</th>\n",
       "      <th>yrs_Old</th>\n",
       "      <th>yrs_Sr Citizen</th>\n",
       "      <th>yrs_Super sr citizen</th>\n",
       "      <th>sl_V.Poor</th>\n",
       "      <th>sl_Modest</th>\n",
       "      <th>sl_Rich</th>\n",
       "      <th>sl_Very Rich</th>\n",
       "    </tr>\n",
       "  </thead>\n",
       "  <tbody>\n",
       "    <tr>\n",
       "      <th>7389</th>\n",
       "      <td>0.006661</td>\n",
       "      <td>-1.215717</td>\n",
       "      <td>0.809503</td>\n",
       "      <td>1</td>\n",
       "      <td>0</td>\n",
       "      <td>1</td>\n",
       "      <td>0</td>\n",
       "      <td>0</td>\n",
       "      <td>0</td>\n",
       "      <td>1</td>\n",
       "      <td>1</td>\n",
       "      <td>0</td>\n",
       "      <td>0</td>\n",
       "      <td>0</td>\n",
       "      <td>0</td>\n",
       "      <td>0</td>\n",
       "      <td>0</td>\n",
       "      <td>1</td>\n",
       "    </tr>\n",
       "    <tr>\n",
       "      <th>9275</th>\n",
       "      <td>-1.377440</td>\n",
       "      <td>-0.006312</td>\n",
       "      <td>-0.921591</td>\n",
       "      <td>1</td>\n",
       "      <td>1</td>\n",
       "      <td>0</td>\n",
       "      <td>0</td>\n",
       "      <td>0</td>\n",
       "      <td>1</td>\n",
       "      <td>0</td>\n",
       "      <td>0</td>\n",
       "      <td>1</td>\n",
       "      <td>0</td>\n",
       "      <td>0</td>\n",
       "      <td>0</td>\n",
       "      <td>0</td>\n",
       "      <td>0</td>\n",
       "      <td>0</td>\n",
       "    </tr>\n",
       "    <tr>\n",
       "      <th>2995</th>\n",
       "      <td>-1.031415</td>\n",
       "      <td>0.579935</td>\n",
       "      <td>-0.921591</td>\n",
       "      <td>1</td>\n",
       "      <td>0</td>\n",
       "      <td>1</td>\n",
       "      <td>0</td>\n",
       "      <td>0</td>\n",
       "      <td>0</td>\n",
       "      <td>0</td>\n",
       "      <td>1</td>\n",
       "      <td>0</td>\n",
       "      <td>0</td>\n",
       "      <td>0</td>\n",
       "      <td>0</td>\n",
       "      <td>0</td>\n",
       "      <td>0</td>\n",
       "      <td>1</td>\n",
       "    </tr>\n",
       "    <tr>\n",
       "      <th>5316</th>\n",
       "      <td>0.006661</td>\n",
       "      <td>0.473128</td>\n",
       "      <td>-0.921591</td>\n",
       "      <td>1</td>\n",
       "      <td>0</td>\n",
       "      <td>1</td>\n",
       "      <td>0</td>\n",
       "      <td>0</td>\n",
       "      <td>0</td>\n",
       "      <td>1</td>\n",
       "      <td>1</td>\n",
       "      <td>0</td>\n",
       "      <td>0</td>\n",
       "      <td>0</td>\n",
       "      <td>0</td>\n",
       "      <td>0</td>\n",
       "      <td>0</td>\n",
       "      <td>1</td>\n",
       "    </tr>\n",
       "    <tr>\n",
       "      <th>356</th>\n",
       "      <td>1.044737</td>\n",
       "      <td>0.810193</td>\n",
       "      <td>0.809503</td>\n",
       "      <td>1</td>\n",
       "      <td>1</td>\n",
       "      <td>0</td>\n",
       "      <td>0</td>\n",
       "      <td>1</td>\n",
       "      <td>0</td>\n",
       "      <td>1</td>\n",
       "      <td>0</td>\n",
       "      <td>1</td>\n",
       "      <td>0</td>\n",
       "      <td>0</td>\n",
       "      <td>0</td>\n",
       "      <td>0</td>\n",
       "      <td>1</td>\n",
       "      <td>0</td>\n",
       "    </tr>\n",
       "  </tbody>\n",
       "</table>\n",
       "</div>"
      ],
      "text/plain": [
       "        Tenure   Balance  NumOfProducts  HasCrCard  IsActiveMember  cr_Modest  \\\n",
       "7389  0.006661 -1.215717       0.809503          1               0          1   \n",
       "9275 -1.377440 -0.006312      -0.921591          1               1          0   \n",
       "2995 -1.031415  0.579935      -0.921591          1               0          1   \n",
       "5316  0.006661  0.473128      -0.921591          1               0          1   \n",
       "356   1.044737  0.810193       0.809503          1               1          0   \n",
       "\n",
       "      cr_Good  cr_Very_good  gg_Germany  gg_Spain  yrs_Adult  yrs_Old  \\\n",
       "7389        0             0           0         1          1        0   \n",
       "9275        0             0           1         0          0        1   \n",
       "2995        0             0           0         0          1        0   \n",
       "5316        0             0           0         1          1        0   \n",
       "356         0             1           0         1          0        1   \n",
       "\n",
       "      yrs_Sr Citizen  yrs_Super sr citizen  sl_V.Poor  sl_Modest  sl_Rich  \\\n",
       "7389               0                     0          0          0        0   \n",
       "9275               0                     0          0          0        0   \n",
       "2995               0                     0          0          0        0   \n",
       "5316               0                     0          0          0        0   \n",
       "356                0                     0          0          0        1   \n",
       "\n",
       "      sl_Very Rich  \n",
       "7389             1  \n",
       "9275             0  \n",
       "2995             1  \n",
       "5316             1  \n",
       "356              0  "
      ]
     },
     "execution_count": 35,
     "metadata": {},
     "output_type": "execute_result"
    }
   ],
   "source": [
    "from sklearn.preprocessing import StandardScaler\n",
    "scaler= StandardScaler()\n",
    "X_train[['Tenure','Balance','NumOfProducts']] = scaler.fit_transform(X_train[['Tenure','Balance','NumOfProducts']])\n",
    "\n",
    "X_train.head()\n"
   ]
  },
  {
   "cell_type": "code",
   "execution_count": 36,
   "metadata": {},
   "outputs": [
    {
     "data": {
      "image/png": "[encoded data removed]",
      "text/plain": [
       "<Figure size 1152x864 with 2 Axes>"
      ]
     },
     "metadata": {
      "needs_background": "light"
     },
     "output_type": "display_data"
    }
   ],
   "source": [
    "# the multi collinearity has been dealt with,plotting the heat map for the same.\n",
    "plt.figure(figsize=(16,12))\n",
    "cor=X_train.corr()\n",
    "sns.heatmap(cor, annot=True, cmap='YlGnBu')\n",
    "plt.show()"
   ]
  },
  {
   "cell_type": "code",
   "execution_count": 37,
   "metadata": {},
   "outputs": [],
   "source": [
    "#X_train.head()"
   ]
  },
  {
   "cell_type": "code",
   "execution_count": 38,
   "metadata": {},
   "outputs": [],
   "source": [
    "import statsmodels.api as sm"
   ]
  },
  {
   "cell_type": "code",
   "execution_count": 39,
   "metadata": {},
   "outputs": [],
   "source": [
    "from sklearn import metrics"
   ]
  },
  {
   "cell_type": "markdown",
   "metadata": {},
   "source": [
    "# Part 2 - Now let's make the ANN!"
   ]
  },
  {
   "cell_type": "code",
   "execution_count": 40,
   "metadata": {},
   "outputs": [
    {
     "name": "stderr",
     "output_type": "stream",
     "text": [
      "Using TensorFlow backend.\n"
     ]
    }
   ],
   "source": [
    "# Importing the Keras libraries and packages\n",
    "import keras\n",
    "from keras.models import Sequential\n",
    "from keras.layers import Dense\n",
    "from keras.layers import Dropout\n"
   ]
  },
  {
   "cell_type": "code",
   "execution_count": 41,
   "metadata": {},
   "outputs": [
    {
     "data": {
      "text/html": [
       "<table class=\"simpletable\">\n",
       "<caption>Generalized Linear Model Regression Results</caption>\n",
       "<tr>\n",
       "  <th>Dep. Variable:</th>       <td>Exited</td>      <th>  No. Observations:  </th>  <td>  8000</td>  \n",
       "</tr>\n",
       "<tr>\n",
       "  <th>Model:</th>                 <td>GLM</td>       <th>  Df Residuals:      </th>  <td>  7981</td>  \n",
       "</tr>\n",
       "<tr>\n",
       "  <th>Model Family:</th>       <td>Binomial</td>     <th>  Df Model:          </th>  <td>    18</td>  \n",
       "</tr>\n",
       "<tr>\n",
       "  <th>Link Function:</th>        <td>logit</td>      <th>  Scale:             </th> <td>  1.0000</td> \n",
       "</tr>\n",
       "<tr>\n",
       "  <th>Method:</th>               <td>IRLS</td>       <th>  Log-Likelihood:    </th> <td> -3403.4</td> \n",
       "</tr>\n",
       "<tr>\n",
       "  <th>Date:</th>           <td>Thu, 12 Sep 2019</td> <th>  Deviance:          </th> <td>  6806.9</td> \n",
       "</tr>\n",
       "<tr>\n",
       "  <th>Time:</th>               <td>11:28:35</td>     <th>  Pearson chi2:      </th> <td>8.08e+03</td> \n",
       "</tr>\n",
       "<tr>\n",
       "  <th>No. Iterations:</th>         <td>6</td>        <th>  Covariance Type:   </th> <td>nonrobust</td>\n",
       "</tr>\n",
       "</table>\n",
       "<table class=\"simpletable\">\n",
       "<tr>\n",
       "            <td></td>              <th>coef</th>     <th>std err</th>      <th>z</th>      <th>P>|z|</th>  <th>[0.025</th>    <th>0.975]</th>  \n",
       "</tr>\n",
       "<tr>\n",
       "  <th>const</th>                <td>   -2.7819</td> <td>    0.617</td> <td>   -4.510</td> <td> 0.000</td> <td>   -3.991</td> <td>   -1.573</td>\n",
       "</tr>\n",
       "<tr>\n",
       "  <th>Tenure</th>               <td>   -0.0664</td> <td>    0.030</td> <td>   -2.183</td> <td> 0.029</td> <td>   -0.126</td> <td>   -0.007</td>\n",
       "</tr>\n",
       "<tr>\n",
       "  <th>Balance</th>              <td>    0.1395</td> <td>    0.036</td> <td>    3.876</td> <td> 0.000</td> <td>    0.069</td> <td>    0.210</td>\n",
       "</tr>\n",
       "<tr>\n",
       "  <th>NumOfProducts</th>        <td>   -0.0898</td> <td>    0.031</td> <td>   -2.919</td> <td> 0.004</td> <td>   -0.150</td> <td>   -0.030</td>\n",
       "</tr>\n",
       "<tr>\n",
       "  <th>HasCrCard</th>            <td>   -0.0482</td> <td>    0.066</td> <td>   -0.725</td> <td> 0.468</td> <td>   -0.179</td> <td>    0.082</td>\n",
       "</tr>\n",
       "<tr>\n",
       "  <th>IsActiveMember</th>       <td>   -0.8853</td> <td>    0.063</td> <td>  -14.036</td> <td> 0.000</td> <td>   -1.009</td> <td>   -0.762</td>\n",
       "</tr>\n",
       "<tr>\n",
       "  <th>cr_Modest</th>            <td>   -0.1631</td> <td>    0.122</td> <td>   -1.342</td> <td> 0.180</td> <td>   -0.401</td> <td>    0.075</td>\n",
       "</tr>\n",
       "<tr>\n",
       "  <th>cr_Good</th>              <td>   -0.1341</td> <td>    0.130</td> <td>   -1.027</td> <td> 0.304</td> <td>   -0.390</td> <td>    0.122</td>\n",
       "</tr>\n",
       "<tr>\n",
       "  <th>cr_Very_good</th>         <td>   -0.1990</td> <td>    0.168</td> <td>   -1.186</td> <td> 0.235</td> <td>   -0.528</td> <td>    0.130</td>\n",
       "</tr>\n",
       "<tr>\n",
       "  <th>gg_Germany</th>           <td>    0.8043</td> <td>    0.076</td> <td>   10.521</td> <td> 0.000</td> <td>    0.654</td> <td>    0.954</td>\n",
       "</tr>\n",
       "<tr>\n",
       "  <th>gg_Spain</th>             <td>    0.1024</td> <td>    0.078</td> <td>    1.306</td> <td> 0.192</td> <td>   -0.051</td> <td>    0.256</td>\n",
       "</tr>\n",
       "<tr>\n",
       "  <th>yrs_Adult</th>            <td>    0.9510</td> <td>    0.600</td> <td>    1.585</td> <td> 0.113</td> <td>   -0.225</td> <td>    2.127</td>\n",
       "</tr>\n",
       "<tr>\n",
       "  <th>yrs_Old</th>              <td>    2.6722</td> <td>    0.600</td> <td>    4.455</td> <td> 0.000</td> <td>    1.497</td> <td>    3.848</td>\n",
       "</tr>\n",
       "<tr>\n",
       "  <th>yrs_Sr Citizen</th>       <td>    2.3677</td> <td>    0.613</td> <td>    3.865</td> <td> 0.000</td> <td>    1.167</td> <td>    3.568</td>\n",
       "</tr>\n",
       "<tr>\n",
       "  <th>yrs_Super sr citizen</th> <td>   -0.1522</td> <td>    1.185</td> <td>   -0.128</td> <td> 0.898</td> <td>   -2.475</td> <td>    2.171</td>\n",
       "</tr>\n",
       "<tr>\n",
       "  <th>sl_V.Poor</th>            <td>    0.0141</td> <td>    0.105</td> <td>    0.134</td> <td> 0.893</td> <td>   -0.192</td> <td>    0.220</td>\n",
       "</tr>\n",
       "<tr>\n",
       "  <th>sl_Modest</th>            <td>   -0.1378</td> <td>    0.122</td> <td>   -1.126</td> <td> 0.260</td> <td>   -0.378</td> <td>    0.102</td>\n",
       "</tr>\n",
       "<tr>\n",
       "  <th>sl_Rich</th>              <td>    0.0137</td> <td>    0.104</td> <td>    0.131</td> <td> 0.896</td> <td>   -0.190</td> <td>    0.218</td>\n",
       "</tr>\n",
       "<tr>\n",
       "  <th>sl_Very Rich</th>         <td>    0.0744</td> <td>    0.104</td> <td>    0.715</td> <td> 0.475</td> <td>   -0.130</td> <td>    0.278</td>\n",
       "</tr>\n",
       "</table>"
      ],
      "text/plain": [
       "<class 'statsmodels.iolib.summary.Summary'>\n",
       "\"\"\"\n",
       "                 Generalized Linear Model Regression Results                  \n",
       "==============================================================================\n",
       "Dep. Variable:                 Exited   No. Observations:                 8000\n",
       "Model:                            GLM   Df Residuals:                     7981\n",
       "Model Family:                Binomial   Df Model:                           18\n",
       "Link Function:                  logit   Scale:                          1.0000\n",
       "Method:                          IRLS   Log-Likelihood:                -3403.4\n",
       "Date:                Thu, 12 Sep 2019   Deviance:                       6806.9\n",
       "Time:                        11:28:35   Pearson chi2:                 8.08e+03\n",
       "No. Iterations:                     6   Covariance Type:             nonrobust\n",
       "========================================================================================\n",
       "                           coef    std err          z      P>|z|      [0.025      0.975]\n",
       "----------------------------------------------------------------------------------------\n",
       "const                   -2.7819      0.617     -4.510      0.000      -3.991      -1.573\n",
       "Tenure                  -0.0664      0.030     -2.183      0.029      -0.126      -0.007\n",
       "Balance                  0.1395      0.036      3.876      0.000       0.069       0.210\n",
       "NumOfProducts           -0.0898      0.031     -2.919      0.004      -0.150      -0.030\n",
       "HasCrCard               -0.0482      0.066     -0.725      0.468      -0.179       0.082\n",
       "IsActiveMember          -0.8853      0.063    -14.036      0.000      -1.009      -0.762\n",
       "cr_Modest               -0.1631      0.122     -1.342      0.180      -0.401       0.075\n",
       "cr_Good                 -0.1341      0.130     -1.027      0.304      -0.390       0.122\n",
       "cr_Very_good            -0.1990      0.168     -1.186      0.235      -0.528       0.130\n",
       "gg_Germany               0.8043      0.076     10.521      0.000       0.654       0.954\n",
       "gg_Spain                 0.1024      0.078      1.306      0.192      -0.051       0.256\n",
       "yrs_Adult                0.9510      0.600      1.585      0.113      -0.225       2.127\n",
       "yrs_Old                  2.6722      0.600      4.455      0.000       1.497       3.848\n",
       "yrs_Sr Citizen           2.3677      0.613      3.865      0.000       1.167       3.568\n",
       "yrs_Super sr citizen    -0.1522      1.185     -0.128      0.898      -2.475       2.171\n",
       "sl_V.Poor                0.0141      0.105      0.134      0.893      -0.192       0.220\n",
       "sl_Modest               -0.1378      0.122     -1.126      0.260      -0.378       0.102\n",
       "sl_Rich                  0.0137      0.104      0.131      0.896      -0.190       0.218\n",
       "sl_Very Rich             0.0744      0.104      0.715      0.475      -0.130       0.278\n",
       "========================================================================================\n",
       "\"\"\""
      ]
     },
     "execution_count": 41,
     "metadata": {},
     "output_type": "execute_result"
    }
   ],
   "source": [
    "X_train_sm=sm.add_constant(X_train)\n",
    "logm2= sm.GLM(y_train,X_train_sm, family= sm.families.Binomial())\n",
    "res=logm2.fit()\n",
    "res.summary()"
   ]
  },
  {
   "cell_type": "code",
   "execution_count": 42,
   "metadata": {},
   "outputs": [
    {
     "data": {
      "text/plain": [
       "7389    0.108303\n",
       "9275    0.483618\n",
       "2995    0.149872\n",
       "5316    0.152256\n",
       "356     0.239544\n",
       "49      0.254089\n",
       "7931    0.480425\n",
       "1523    0.207296\n",
       "7552    0.021643\n",
       "496     0.128167\n",
       "dtype: float64"
      ]
     },
     "execution_count": 42,
     "metadata": {},
     "output_type": "execute_result"
    }
   ],
   "source": [
    "# getting the predicted value on train set\n",
    "y_train_pred= res.predict(X_train_sm)\n",
    "y_train_pred[:10]"
   ]
  },
  {
   "cell_type": "code",
   "execution_count": null,
   "metadata": {},
   "outputs": [],
   "source": []
  },
  {
   "cell_type": "code",
   "execution_count": null,
   "metadata": {},
   "outputs": [],
   "source": []
  },
  {
   "cell_type": "code",
   "execution_count": 43,
   "metadata": {},
   "outputs": [
    {
     "data": {
      "text/html": [
       "<div>\n",
       "<style scoped>\n",
       "    .dataframe tbody tr th:only-of-type {\n",
       "        vertical-align: middle;\n",
       "    }\n",
       "\n",
       "    .dataframe tbody tr th {\n",
       "        vertical-align: top;\n",
       "    }\n",
       "\n",
       "    .dataframe thead th {\n",
       "        text-align: right;\n",
       "    }\n",
       "</style>\n",
       "<table border=\"1\" class=\"dataframe\">\n",
       "  <thead>\n",
       "    <tr style=\"text-align: right;\">\n",
       "      <th></th>\n",
       "      <th>Converted</th>\n",
       "      <th>Conversion_prob</th>\n",
       "      <th>CustomerId</th>\n",
       "    </tr>\n",
       "  </thead>\n",
       "  <tbody>\n",
       "    <tr>\n",
       "      <th>7389</th>\n",
       "      <td>0</td>\n",
       "      <td>0.108303</td>\n",
       "      <td>7389</td>\n",
       "    </tr>\n",
       "    <tr>\n",
       "      <th>9275</th>\n",
       "      <td>0</td>\n",
       "      <td>0.483618</td>\n",
       "      <td>9275</td>\n",
       "    </tr>\n",
       "    <tr>\n",
       "      <th>2995</th>\n",
       "      <td>0</td>\n",
       "      <td>0.149872</td>\n",
       "      <td>2995</td>\n",
       "    </tr>\n",
       "    <tr>\n",
       "      <th>5316</th>\n",
       "      <td>0</td>\n",
       "      <td>0.152256</td>\n",
       "      <td>5316</td>\n",
       "    </tr>\n",
       "    <tr>\n",
       "      <th>356</th>\n",
       "      <td>0</td>\n",
       "      <td>0.239544</td>\n",
       "      <td>356</td>\n",
       "    </tr>\n",
       "  </tbody>\n",
       "</table>\n",
       "</div>"
      ],
      "text/plain": [
       "      Converted  Conversion_prob  CustomerId\n",
       "7389          0         0.108303        7389\n",
       "9275          0         0.483618        9275\n",
       "2995          0         0.149872        2995\n",
       "5316          0         0.152256        5316\n",
       "356           0         0.239544         356"
      ]
     },
     "execution_count": 43,
     "metadata": {},
     "output_type": "execute_result"
    }
   ],
   "source": [
    "y_train_pred_final= pd .DataFrame({'Converted':y_train.values, 'Conversion_prob':y_train_pred})\n",
    "y_train_pred_final['CustomerId']= y_train.index\n",
    "y_train_pred_final.head()"
   ]
  },
  {
   "cell_type": "code",
   "execution_count": 44,
   "metadata": {},
   "outputs": [
    {
     "data": {
      "text/html": [
       "<div>\n",
       "<style scoped>\n",
       "    .dataframe tbody tr th:only-of-type {\n",
       "        vertical-align: middle;\n",
       "    }\n",
       "\n",
       "    .dataframe tbody tr th {\n",
       "        vertical-align: top;\n",
       "    }\n",
       "\n",
       "    .dataframe thead th {\n",
       "        text-align: right;\n",
       "    }\n",
       "</style>\n",
       "<table border=\"1\" class=\"dataframe\">\n",
       "  <thead>\n",
       "    <tr style=\"text-align: right;\">\n",
       "      <th></th>\n",
       "      <th>Converted</th>\n",
       "      <th>Conversion_prob</th>\n",
       "      <th>CustomerId</th>\n",
       "      <th>predicted</th>\n",
       "    </tr>\n",
       "  </thead>\n",
       "  <tbody>\n",
       "    <tr>\n",
       "      <th>7389</th>\n",
       "      <td>0</td>\n",
       "      <td>0.108303</td>\n",
       "      <td>7389</td>\n",
       "      <td>0</td>\n",
       "    </tr>\n",
       "    <tr>\n",
       "      <th>9275</th>\n",
       "      <td>0</td>\n",
       "      <td>0.483618</td>\n",
       "      <td>9275</td>\n",
       "      <td>0</td>\n",
       "    </tr>\n",
       "    <tr>\n",
       "      <th>2995</th>\n",
       "      <td>0</td>\n",
       "      <td>0.149872</td>\n",
       "      <td>2995</td>\n",
       "      <td>0</td>\n",
       "    </tr>\n",
       "    <tr>\n",
       "      <th>5316</th>\n",
       "      <td>0</td>\n",
       "      <td>0.152256</td>\n",
       "      <td>5316</td>\n",
       "      <td>0</td>\n",
       "    </tr>\n",
       "    <tr>\n",
       "      <th>356</th>\n",
       "      <td>0</td>\n",
       "      <td>0.239544</td>\n",
       "      <td>356</td>\n",
       "      <td>0</td>\n",
       "    </tr>\n",
       "  </tbody>\n",
       "</table>\n",
       "</div>"
      ],
      "text/plain": [
       "      Converted  Conversion_prob  CustomerId  predicted\n",
       "7389          0         0.108303        7389          0\n",
       "9275          0         0.483618        9275          0\n",
       "2995          0         0.149872        2995          0\n",
       "5316          0         0.152256        5316          0\n",
       "356           0         0.239544         356          0"
      ]
     },
     "execution_count": 44,
     "metadata": {},
     "output_type": "execute_result"
    }
   ],
   "source": [
    "y_train_pred_final['predicted']= y_train_pred_final.Conversion_prob.map(lambda x:1 if x > 0.5 else 0 )\n",
    "\n",
    "y_train_pred_final.head()"
   ]
  },
  {
   "cell_type": "code",
   "execution_count": 45,
   "metadata": {},
   "outputs": [],
   "source": [
    "from sklearn import metrics"
   ]
  },
  {
   "cell_type": "code",
   "execution_count": 46,
   "metadata": {},
   "outputs": [
    {
     "name": "stdout",
     "output_type": "stream",
     "text": [
      "[[6174  194]\n",
      " [1299  333]]\n"
     ]
    }
   ],
   "source": [
    "confusion= metrics.confusion_matrix(y_train_pred_final.Converted, y_train_pred_final.predicted)\n",
    "print(confusion)"
   ]
  },
  {
   "cell_type": "code",
   "execution_count": 47,
   "metadata": {},
   "outputs": [
    {
     "name": "stdout",
     "output_type": "stream",
     "text": [
      "0.813375\n"
     ]
    }
   ],
   "source": [
    "## lets check accuracy.\n",
    "print(metrics.accuracy_score(y_train_pred_final.Converted, y_train_pred_final.predicted))"
   ]
  },
  {
   "cell_type": "code",
   "execution_count": 48,
   "metadata": {},
   "outputs": [],
   "source": [
    "def draw_roc( actual, probs ):\n",
    "    fpr, tpr, thresholds = metrics.roc_curve( actual, probs,\n",
    "                                              drop_intermediate = False )\n",
    "    auc_score = metrics.roc_auc_score( actual, probs )\n",
    "    plt.figure(figsize=(5, 5))\n",
    "    plt.plot( fpr, tpr, label='ROC curve (area = %0.2f)' % auc_score )\n",
    "    plt.plot([0, 1], [0, 1], 'k--')\n",
    "    plt.xlim([0.0, 1.0])\n",
    "    plt.ylim([0.0, 1.05])\n",
    "    plt.xlabel('False Positive Rate or [1 - True Negative Rate]')\n",
    "    plt.ylabel('True Positive Rate')\n",
    "    plt.title('Receiver operating characteristic example')\n",
    "    plt.legend(loc=\"lower right\")\n",
    "    plt.show()\n",
    "\n",
    "    return None"
   ]
  },
  {
   "cell_type": "code",
   "execution_count": 49,
   "metadata": {},
   "outputs": [],
   "source": [
    "fpr, tpr, thresholds = metrics.roc_curve( y_train_pred_final.Converted, y_train_pred_final.Conversion_prob, drop_intermediate = False )"
   ]
  },
  {
   "cell_type": "code",
   "execution_count": 50,
   "metadata": {},
   "outputs": [
    {
     "data": {
      "image/png": "[encoded data removed]",
      "text/plain": [
       "<Figure size 360x360 with 1 Axes>"
      ]
     },
     "metadata": {
      "needs_background": "light"
     },
     "output_type": "display_data"
    }
   ],
   "source": [
    "draw_roc(y_train_pred_final.Converted, y_train_pred_final.Conversion_prob)"
   ]
  },
  {
   "cell_type": "code",
   "execution_count": 51,
   "metadata": {},
   "outputs": [
    {
     "data": {
      "text/html": [
       "<div>\n",
       "<style scoped>\n",
       "    .dataframe tbody tr th:only-of-type {\n",
       "        vertical-align: middle;\n",
       "    }\n",
       "\n",
       "    .dataframe tbody tr th {\n",
       "        vertical-align: top;\n",
       "    }\n",
       "\n",
       "    .dataframe thead th {\n",
       "        text-align: right;\n",
       "    }\n",
       "</style>\n",
       "<table border=\"1\" class=\"dataframe\">\n",
       "  <thead>\n",
       "    <tr style=\"text-align: right;\">\n",
       "      <th></th>\n",
       "      <th>Converted</th>\n",
       "      <th>Conversion_prob</th>\n",
       "      <th>CustomerId</th>\n",
       "      <th>predicted</th>\n",
       "      <th>0.0</th>\n",
       "      <th>0.1</th>\n",
       "      <th>0.2</th>\n",
       "      <th>0.3</th>\n",
       "      <th>0.4</th>\n",
       "      <th>0.5</th>\n",
       "      <th>0.6</th>\n",
       "      <th>0.7</th>\n",
       "      <th>0.8</th>\n",
       "      <th>0.9</th>\n",
       "    </tr>\n",
       "  </thead>\n",
       "  <tbody>\n",
       "    <tr>\n",
       "      <th>7389</th>\n",
       "      <td>0</td>\n",
       "      <td>0.108303</td>\n",
       "      <td>7389</td>\n",
       "      <td>0</td>\n",
       "      <td>1</td>\n",
       "      <td>1</td>\n",
       "      <td>0</td>\n",
       "      <td>0</td>\n",
       "      <td>0</td>\n",
       "      <td>0</td>\n",
       "      <td>0</td>\n",
       "      <td>0</td>\n",
       "      <td>0</td>\n",
       "      <td>0</td>\n",
       "    </tr>\n",
       "    <tr>\n",
       "      <th>9275</th>\n",
       "      <td>0</td>\n",
       "      <td>0.483618</td>\n",
       "      <td>9275</td>\n",
       "      <td>0</td>\n",
       "      <td>1</td>\n",
       "      <td>1</td>\n",
       "      <td>1</td>\n",
       "      <td>1</td>\n",
       "      <td>1</td>\n",
       "      <td>0</td>\n",
       "      <td>0</td>\n",
       "      <td>0</td>\n",
       "      <td>0</td>\n",
       "      <td>0</td>\n",
       "    </tr>\n",
       "    <tr>\n",
       "      <th>2995</th>\n",
       "      <td>0</td>\n",
       "      <td>0.149872</td>\n",
       "      <td>2995</td>\n",
       "      <td>0</td>\n",
       "      <td>1</td>\n",
       "      <td>1</td>\n",
       "      <td>0</td>\n",
       "      <td>0</td>\n",
       "      <td>0</td>\n",
       "      <td>0</td>\n",
       "      <td>0</td>\n",
       "      <td>0</td>\n",
       "      <td>0</td>\n",
       "      <td>0</td>\n",
       "    </tr>\n",
       "    <tr>\n",
       "      <th>5316</th>\n",
       "      <td>0</td>\n",
       "      <td>0.152256</td>\n",
       "      <td>5316</td>\n",
       "      <td>0</td>\n",
       "      <td>1</td>\n",
       "      <td>1</td>\n",
       "      <td>0</td>\n",
       "      <td>0</td>\n",
       "      <td>0</td>\n",
       "      <td>0</td>\n",
       "      <td>0</td>\n",
       "      <td>0</td>\n",
       "      <td>0</td>\n",
       "      <td>0</td>\n",
       "    </tr>\n",
       "    <tr>\n",
       "      <th>356</th>\n",
       "      <td>0</td>\n",
       "      <td>0.239544</td>\n",
       "      <td>356</td>\n",
       "      <td>0</td>\n",
       "      <td>1</td>\n",
       "      <td>1</td>\n",
       "      <td>1</td>\n",
       "      <td>0</td>\n",
       "      <td>0</td>\n",
       "      <td>0</td>\n",
       "      <td>0</td>\n",
       "      <td>0</td>\n",
       "      <td>0</td>\n",
       "      <td>0</td>\n",
       "    </tr>\n",
       "  </tbody>\n",
       "</table>\n",
       "</div>"
      ],
      "text/plain": [
       "      Converted  Conversion_prob  CustomerId  predicted  0.0  0.1  0.2  0.3  \\\n",
       "7389          0         0.108303        7389          0    1    1    0    0   \n",
       "9275          0         0.483618        9275          0    1    1    1    1   \n",
       "2995          0         0.149872        2995          0    1    1    0    0   \n",
       "5316          0         0.152256        5316          0    1    1    0    0   \n",
       "356           0         0.239544         356          0    1    1    1    0   \n",
       "\n",
       "      0.4  0.5  0.6  0.7  0.8  0.9  \n",
       "7389    0    0    0    0    0    0  \n",
       "9275    1    0    0    0    0    0  \n",
       "2995    0    0    0    0    0    0  \n",
       "5316    0    0    0    0    0    0  \n",
       "356     0    0    0    0    0    0  "
      ]
     },
     "execution_count": 51,
     "metadata": {},
     "output_type": "execute_result"
    }
   ],
   "source": [
    "# Let's create columns with different probability cutoffs \n",
    "numbers = [float(x)/10 for x in range(10)]\n",
    "for i in numbers:\n",
    "    y_train_pred_final[i]= y_train_pred_final.Conversion_prob.map(lambda x: 1 if x > i else 0)\n",
    "y_train_pred_final.head()"
   ]
  },
  {
   "cell_type": "code",
   "execution_count": 52,
   "metadata": {},
   "outputs": [
    {
     "name": "stdout",
     "output_type": "stream",
     "text": [
      "     prob       acc     sensi     speci\n",
      "0.0   0.0  0.204000  1.000000  0.000000\n",
      "0.1   0.1  0.484750  0.896446  0.379240\n",
      "0.2   0.2  0.703500  0.710172  0.701790\n",
      "0.3   0.3  0.788125  0.530025  0.854271\n",
      "0.4   0.4  0.805875  0.418505  0.905151\n",
      "0.5   0.5  0.813375  0.204044  0.969535\n",
      "0.6   0.6  0.808625  0.145221  0.978643\n",
      "0.7   0.7  0.798125  0.014093  0.999058\n",
      "0.8   0.8  0.796000  0.000000  1.000000\n",
      "0.9   0.9  0.796000  0.000000  1.000000\n"
     ]
    }
   ],
   "source": [
    "##  Now let's calculate accuracy sensitivity and specificity for various probability cutoffs.\n",
    "cutoff_df= pd.DataFrame( columns= ['prob','acc','sensi','speci'])\n",
    "from sklearn.metrics import confusion_matrix\n",
    "\n",
    "# TP = confusion[1,1] # true positive \n",
    "# TN = confusion[0,0] # true negatives\n",
    "# FP = confusion[0,1] # false positives\n",
    "# FN = confusion[1,0] # false negatives\n",
    "\n",
    "num = [0.0,0.1,0.2,0.3,0.4,0.5,0.6,0.7,0.8,0.9]\n",
    "for i in num:\n",
    "    cm1 = metrics.confusion_matrix(y_train_pred_final.Converted, y_train_pred_final[i] )\n",
    "    total1=sum(sum(cm1))\n",
    "    accuracy = (cm1[0,0]+cm1[1,1])/total1\n",
    "    \n",
    "    speci = cm1[0,0]/(cm1[0,0]+cm1[0,1])\n",
    "    sensi = cm1[1,1]/(cm1[1,0]+cm1[1,1])\n",
    "    cutoff_df.loc[i] =[ i ,accuracy,sensi,speci]\n",
    "print(cutoff_df)\n"
   ]
  },
  {
   "cell_type": "code",
   "execution_count": null,
   "metadata": {},
   "outputs": [],
   "source": []
  },
  {
   "cell_type": "markdown",
   "metadata": {},
   "source": [
    "## Initialising the ANN"
   ]
  },
  {
   "cell_type": "code",
   "execution_count": 53,
   "metadata": {},
   "outputs": [],
   "source": [
    "classifier = Sequential()"
   ]
  },
  {
   "cell_type": "markdown",
   "metadata": {},
   "source": [
    "# Adding the input layer and the first hidden layer"
   ]
  },
  {
   "cell_type": "code",
   "execution_count": 54,
   "metadata": {},
   "outputs": [
    {
     "name": "stdout",
     "output_type": "stream",
     "text": [
      "WARNING:tensorflow:From C:\\Users\\apurv\\Anaconda3\\lib\\site-packages\\tensorflow\\python\\framework\\op_def_library.py:263: colocate_with (from tensorflow.python.framework.ops) is deprecated and will be removed in a future version.\n",
      "Instructions for updating:\n",
      "Colocations handled automatically by placer.\n"
     ]
    }
   ],
   "source": [
    "classifier.add(Dense(units = 16, kernel_initializer = 'uniform', activation = 'relu', input_dim = 18))\n",
    "# classifier.add(Dropout(p = 0.1))\n"
   ]
  },
  {
   "cell_type": "markdown",
   "metadata": {},
   "source": [
    "### Adding the second hidden layer\n"
   ]
  },
  {
   "cell_type": "code",
   "execution_count": 55,
   "metadata": {},
   "outputs": [],
   "source": [
    "classifier.add(Dense(units = 64, kernel_initializer = 'uniform', activation = 'relu'))\n",
    "#classifier.add(Dropout(p = 0.1))\n"
   ]
  },
  {
   "cell_type": "code",
   "execution_count": 56,
   "metadata": {},
   "outputs": [],
   "source": [
    "classifier.add(Dense(units = 64, kernel_initializer = 'uniform', activation = 'relu'))\n",
    "# classifier.add(Dropout(p = 0.1))\n"
   ]
  },
  {
   "cell_type": "code",
   "execution_count": 57,
   "metadata": {},
   "outputs": [],
   "source": [
    "classifier.add(Dense(units = 64, kernel_initializer = 'uniform', activation = 'relu'))\n",
    "# classifier.add(Dropout(p = 0.1))\n"
   ]
  },
  {
   "cell_type": "markdown",
   "metadata": {},
   "source": [
    "### Adding the output layer\n"
   ]
  },
  {
   "cell_type": "code",
   "execution_count": 58,
   "metadata": {},
   "outputs": [],
   "source": [
    "classifier.add(Dense(units = 1, kernel_initializer = 'uniform', activation = 'sigmoid'))\n"
   ]
  },
  {
   "cell_type": "markdown",
   "metadata": {},
   "source": [
    "### Compiling the ANN\n"
   ]
  },
  {
   "cell_type": "code",
   "execution_count": 59,
   "metadata": {},
   "outputs": [],
   "source": [
    "classifier.compile(optimizer = 'adam', loss = 'binary_crossentropy', metrics = ['accuracy'])\n"
   ]
  },
  {
   "cell_type": "markdown",
   "metadata": {},
   "source": [
    "### Fitting the ANN to the Training set\n"
   ]
  },
  {
   "cell_type": "code",
   "execution_count": 60,
   "metadata": {
    "scrolled": true
   },
   "outputs": [
    {
     "name": "stdout",
     "output_type": "stream",
     "text": [
      "WARNING:tensorflow:From C:\\Users\\apurv\\Anaconda3\\lib\\site-packages\\tensorflow\\python\\ops\\math_ops.py:3066: to_int32 (from tensorflow.python.ops.math_ops) is deprecated and will be removed in a future version.\n",
      "Instructions for updating:\n",
      "Use tf.cast instead.\n",
      "Epoch 1/100\n",
      "8000/8000 [==============================] - 4s 441us/step - loss: 0.4365 - acc: 0.8149\n",
      "Epoch 2/100\n",
      "8000/8000 [==============================] - 2s 237us/step - loss: 0.3734 - acc: 0.8480\n",
      "Epoch 3/100\n",
      "8000/8000 [==============================] - 2s 221us/step - loss: 0.3711 - acc: 0.8479\n",
      "Epoch 4/100\n",
      "8000/8000 [==============================] - 2s 216us/step - loss: 0.3679 - acc: 0.8475\n",
      "Epoch 5/100\n",
      "8000/8000 [==============================] - 2s 214us/step - loss: 0.3658 - acc: 0.8501\n",
      "Epoch 6/100\n",
      "8000/8000 [==============================] - 2s 219us/step - loss: 0.3660 - acc: 0.8484\n",
      "Epoch 7/100\n",
      "8000/8000 [==============================] - 2s 222us/step - loss: 0.3624 - acc: 0.8521\n",
      "Epoch 8/100\n",
      "8000/8000 [==============================] - 2s 213us/step - loss: 0.3623 - acc: 0.8527\n",
      "Epoch 9/100\n",
      "8000/8000 [==============================] - 2s 222us/step - loss: 0.3629 - acc: 0.8520\n",
      "Epoch 10/100\n",
      "8000/8000 [==============================] - 2s 247us/step - loss: 0.3591 - acc: 0.8539\n",
      "Epoch 11/100\n",
      "8000/8000 [==============================] - 2s 249us/step - loss: 0.3604 - acc: 0.8524\n",
      "Epoch 12/100\n",
      "8000/8000 [==============================] - 2s 224us/step - loss: 0.3583 - acc: 0.8520\n",
      "Epoch 13/100\n",
      "8000/8000 [==============================] - 2s 220us/step - loss: 0.3583 - acc: 0.8536\n",
      "Epoch 14/100\n",
      "8000/8000 [==============================] - 2s 226us/step - loss: 0.3569 - acc: 0.8552\n",
      "Epoch 15/100\n",
      "8000/8000 [==============================] - 2s 222us/step - loss: 0.3552 - acc: 0.8572\n",
      "Epoch 16/100\n",
      "8000/8000 [==============================] - 2s 218us/step - loss: 0.3557 - acc: 0.8536\n",
      "Epoch 17/100\n",
      "8000/8000 [==============================] - 2s 217us/step - loss: 0.3551 - acc: 0.8525\n",
      "Epoch 18/100\n",
      "8000/8000 [==============================] - 2s 217us/step - loss: 0.3548 - acc: 0.8549\n",
      "Epoch 19/100\n",
      "8000/8000 [==============================] - 2s 243us/step - loss: 0.3534 - acc: 0.8550\n",
      "Epoch 20/100\n",
      "8000/8000 [==============================] - 2s 223us/step - loss: 0.3537 - acc: 0.8559\n",
      "Epoch 21/100\n",
      "8000/8000 [==============================] - 2s 218us/step - loss: 0.3520 - acc: 0.8569\n",
      "Epoch 22/100\n",
      "8000/8000 [==============================] - 2s 215us/step - loss: 0.3520 - acc: 0.8552\n",
      "Epoch 23/100\n",
      "8000/8000 [==============================] - 2s 214us/step - loss: 0.3524 - acc: 0.8562\n",
      "Epoch 24/100\n",
      "8000/8000 [==============================] - 2s 217us/step - loss: 0.3520 - acc: 0.8567\n",
      "Epoch 25/100\n",
      "8000/8000 [==============================] - 2s 219us/step - loss: 0.3494 - acc: 0.8559\n",
      "Epoch 26/100\n",
      "8000/8000 [==============================] - 2s 216us/step - loss: 0.3502 - acc: 0.8550\n",
      "Epoch 27/100\n",
      "8000/8000 [==============================] - 2s 216us/step - loss: 0.3490 - acc: 0.8587\n",
      "Epoch 28/100\n",
      "8000/8000 [==============================] - 2s 242us/step - loss: 0.3484 - acc: 0.8580\n",
      "Epoch 29/100\n",
      "8000/8000 [==============================] - 2s 224us/step - loss: 0.3476 - acc: 0.8584\n",
      "Epoch 30/100\n",
      "8000/8000 [==============================] - 2s 215us/step - loss: 0.3468 - acc: 0.8557\n",
      "Epoch 31/100\n",
      "8000/8000 [==============================] - 2s 216us/step - loss: 0.3464 - acc: 0.8570\n",
      "Epoch 32/100\n",
      "8000/8000 [==============================] - 2s 217us/step - loss: 0.3457 - acc: 0.8580\n",
      "Epoch 33/100\n",
      "8000/8000 [==============================] - 2s 219us/step - loss: 0.3443 - acc: 0.8592\n",
      "Epoch 34/100\n",
      "8000/8000 [==============================] - 2s 216us/step - loss: 0.3440 - acc: 0.8594\n",
      "Epoch 35/100\n",
      "8000/8000 [==============================] - 2s 216us/step - loss: 0.3423 - acc: 0.8606\n",
      "Epoch 36/100\n",
      "8000/8000 [==============================] - 2s 217us/step - loss: 0.3413 - acc: 0.8616\n",
      "Epoch 37/100\n",
      "8000/8000 [==============================] - 2s 238us/step - loss: 0.3408 - acc: 0.8607\n",
      "Epoch 38/100\n",
      "8000/8000 [==============================] - 2s 223us/step - loss: 0.3390 - acc: 0.8590\n",
      "Epoch 39/100\n",
      "8000/8000 [==============================] - 2s 233us/step - loss: 0.3372 - acc: 0.8629\n",
      "Epoch 40/100\n",
      "8000/8000 [==============================] - 2s 239us/step - loss: 0.3369 - acc: 0.8624\n",
      "Epoch 41/100\n",
      "8000/8000 [==============================] - 2s 236us/step - loss: 0.3374 - acc: 0.8625\n",
      "Epoch 42/100\n",
      "8000/8000 [==============================] - 2s 229us/step - loss: 0.3346 - acc: 0.8629\n",
      "Epoch 43/100\n",
      "8000/8000 [==============================] - 2s 240us/step - loss: 0.3346 - acc: 0.8627\n",
      "Epoch 44/100\n",
      "8000/8000 [==============================] - 2s 234us/step - loss: 0.3342 - acc: 0.8637\n",
      "Epoch 45/100\n",
      "8000/8000 [==============================] - 2s 242us/step - loss: 0.3326 - acc: 0.8630\n",
      "Epoch 46/100\n",
      "8000/8000 [==============================] - 2s 245us/step - loss: 0.3302 - acc: 0.8646\n",
      "Epoch 47/100\n",
      "8000/8000 [==============================] - 2s 243us/step - loss: 0.3319 - acc: 0.8661\n",
      "Epoch 48/100\n",
      "8000/8000 [==============================] - 2s 259us/step - loss: 0.3296 - acc: 0.8630 1s - \n",
      "Epoch 49/100\n",
      "8000/8000 [==============================] - 2s 241us/step - loss: 0.3299 - acc: 0.8649 0s - loss: 0.3276 -\n",
      "Epoch 50/100\n",
      "8000/8000 [==============================] - 2s 228us/step - loss: 0.3283 - acc: 0.8632\n",
      "Epoch 51/100\n",
      "8000/8000 [==============================] - 2s 236us/step - loss: 0.3302 - acc: 0.8650\n",
      "Epoch 52/100\n",
      "8000/8000 [==============================] - 2s 237us/step - loss: 0.3288 - acc: 0.8650\n",
      "Epoch 53/100\n",
      "8000/8000 [==============================] - 2s 231us/step - loss: 0.3288 - acc: 0.8656\n",
      "Epoch 54/100\n",
      "8000/8000 [==============================] - 2s 263us/step - loss: 0.3277 - acc: 0.8640\n",
      "Epoch 55/100\n",
      "8000/8000 [==============================] - 2s 244us/step - loss: 0.3266 - acc: 0.8664\n",
      "Epoch 56/100\n",
      "8000/8000 [==============================] - 2s 237us/step - loss: 0.3261 - acc: 0.8667\n",
      "Epoch 57/100\n",
      "8000/8000 [==============================] - 2s 253us/step - loss: 0.3262 - acc: 0.8662\n",
      "Epoch 58/100\n",
      "8000/8000 [==============================] - 2s 244us/step - loss: 0.3246 - acc: 0.8664\n",
      "Epoch 59/100\n",
      "8000/8000 [==============================] - 2s 248us/step - loss: 0.3247 - acc: 0.8680\n",
      "Epoch 60/100\n",
      "8000/8000 [==============================] - 2s 238us/step - loss: 0.3242 - acc: 0.8672\n",
      "Epoch 61/100\n",
      "8000/8000 [==============================] - 2s 237us/step - loss: 0.3223 - acc: 0.8670\n",
      "Epoch 62/100\n",
      "8000/8000 [==============================] - 2s 250us/step - loss: 0.3223 - acc: 0.8682\n",
      "Epoch 63/100\n",
      "8000/8000 [==============================] - 2s 195us/step - loss: 0.3245 - acc: 0.8675\n",
      "Epoch 64/100\n",
      "8000/8000 [==============================] - 2s 207us/step - loss: 0.3212 - acc: 0.8690\n",
      "Epoch 65/100\n",
      "8000/8000 [==============================] - 1s 181us/step - loss: 0.3199 - acc: 0.8675\n",
      "Epoch 66/100\n",
      "8000/8000 [==============================] - 2s 255us/step - loss: 0.3195 - acc: 0.8686\n",
      "Epoch 67/100\n",
      "8000/8000 [==============================] - 2s 242us/step - loss: 0.3184 - acc: 0.8675\n",
      "Epoch 68/100\n",
      "8000/8000 [==============================] - 2s 247us/step - loss: 0.3183 - acc: 0.8690\n",
      "Epoch 69/100\n",
      "8000/8000 [==============================] - 2s 246us/step - loss: 0.3166 - acc: 0.8687\n",
      "Epoch 70/100\n",
      "8000/8000 [==============================] - 2s 239us/step - loss: 0.3164 - acc: 0.8686\n",
      "Epoch 71/100\n",
      "8000/8000 [==============================] - 2s 251us/step - loss: 0.3152 - acc: 0.8709\n",
      "Epoch 72/100\n",
      "8000/8000 [==============================] - 2s 255us/step - loss: 0.3141 - acc: 0.8705\n",
      "Epoch 73/100\n",
      "8000/8000 [==============================] - 2s 239us/step - loss: 0.3130 - acc: 0.8695\n",
      "Epoch 74/100\n",
      "8000/8000 [==============================] - 2s 257us/step - loss: 0.3121 - acc: 0.8704\n",
      "Epoch 75/100\n",
      "8000/8000 [==============================] - 2s 242us/step - loss: 0.3101 - acc: 0.8714\n",
      "Epoch 76/100\n",
      "8000/8000 [==============================] - 2s 237us/step - loss: 0.3102 - acc: 0.8721\n",
      "Epoch 77/100\n",
      "8000/8000 [==============================] - 2s 237us/step - loss: 0.3083 - acc: 0.8735\n",
      "Epoch 78/100\n",
      "8000/8000 [==============================] - 2s 244us/step - loss: 0.3075 - acc: 0.8726\n",
      "Epoch 79/100\n",
      "8000/8000 [==============================] - 2s 246us/step - loss: 0.3075 - acc: 0.8709\n",
      "Epoch 80/100\n",
      "8000/8000 [==============================] - 2s 237us/step - loss: 0.3069 - acc: 0.8710\n",
      "Epoch 81/100\n",
      "8000/8000 [==============================] - 2s 246us/step - loss: 0.3057 - acc: 0.8719\n",
      "Epoch 82/100\n",
      "8000/8000 [==============================] - 2s 238us/step - loss: 0.3036 - acc: 0.8730\n",
      "Epoch 83/100\n",
      "8000/8000 [==============================] - 2s 235us/step - loss: 0.3050 - acc: 0.8719\n",
      "Epoch 84/100\n",
      "8000/8000 [==============================] - 2s 238us/step - loss: 0.3033 - acc: 0.8729\n",
      "Epoch 85/100\n",
      "8000/8000 [==============================] - 2s 234us/step - loss: 0.3013 - acc: 0.8754\n",
      "Epoch 86/100\n",
      "8000/8000 [==============================] - 2s 233us/step - loss: 0.3009 - acc: 0.8749\n",
      "Epoch 87/100\n",
      "8000/8000 [==============================] - 2s 243us/step - loss: 0.2996 - acc: 0.8751\n",
      "Epoch 88/100\n",
      "8000/8000 [==============================] - 2s 232us/step - loss: 0.2990 - acc: 0.8757\n",
      "Epoch 89/100\n",
      "8000/8000 [==============================] - 2s 232us/step - loss: 0.2985 - acc: 0.8776\n",
      "Epoch 90/100\n",
      "8000/8000 [==============================] - 2s 234us/step - loss: 0.2982 - acc: 0.8744\n",
      "Epoch 91/100\n",
      "8000/8000 [==============================] - 2s 235us/step - loss: 0.2980 - acc: 0.8722\n",
      "Epoch 92/100\n",
      "8000/8000 [==============================] - 2s 230us/step - loss: 0.2957 - acc: 0.8771\n",
      "Epoch 93/100\n",
      "8000/8000 [==============================] - 2s 239us/step - loss: 0.2929 - acc: 0.8765\n",
      "Epoch 94/100\n",
      "8000/8000 [==============================] - 2s 236us/step - loss: 0.2929 - acc: 0.8767\n",
      "Epoch 95/100\n",
      "8000/8000 [==============================] - 2s 236us/step - loss: 0.2927 - acc: 0.8762\n",
      "Epoch 96/100\n",
      "8000/8000 [==============================] - 2s 249us/step - loss: 0.2943 - acc: 0.8756\n",
      "Epoch 97/100\n",
      "8000/8000 [==============================] - 2s 230us/step - loss: 0.2916 - acc: 0.8776\n",
      "Epoch 98/100\n",
      "8000/8000 [==============================] - 2s 234us/step - loss: 0.2880 - acc: 0.8801\n",
      "Epoch 99/100\n",
      "8000/8000 [==============================] - 2s 238us/step - loss: 0.2903 - acc: 0.8787\n",
      "Epoch 100/100\n",
      "8000/8000 [==============================] - 2s 234us/step - loss: 0.2879 - acc: 0.8806\n"
     ]
    },
    {
     "data": {
      "text/plain": [
       "<keras.callbacks.History at 0x1bb1dbd3780>"
      ]
     },
     "execution_count": 60,
     "metadata": {},
     "output_type": "execute_result"
    }
   ],
   "source": [
    "classifier.fit(X_train, y_train, batch_size = 10, epochs = 100)\n"
   ]
  },
  {
   "cell_type": "code",
   "execution_count": 61,
   "metadata": {},
   "outputs": [
    {
     "name": "stderr",
     "output_type": "stream",
     "text": [
      "C:\\Users\\apurv\\Anaconda3\\lib\\site-packages\\ipykernel_launcher.py:1: SettingWithCopyWarning: \n",
      "A value is trying to be set on a copy of a slice from a DataFrame.\n",
      "Try using .loc[row_indexer,col_indexer] = value instead\n",
      "\n",
      "See the caveats in the documentation: http://pandas.pydata.org/pandas-docs/stable/indexing.html#indexing-view-versus-copy\n",
      "  \"\"\"Entry point for launching an IPython kernel.\n",
      "C:\\Users\\apurv\\Anaconda3\\lib\\site-packages\\pandas\\core\\indexing.py:543: SettingWithCopyWarning: \n",
      "A value is trying to be set on a copy of a slice from a DataFrame.\n",
      "Try using .loc[row_indexer,col_indexer] = value instead\n",
      "\n",
      "See the caveats in the documentation: http://pandas.pydata.org/pandas-docs/stable/indexing.html#indexing-view-versus-copy\n",
      "  self.obj[item] = s\n"
     ]
    },
    {
     "data": {
      "text/html": [
       "<div>\n",
       "<style scoped>\n",
       "    .dataframe tbody tr th:only-of-type {\n",
       "        vertical-align: middle;\n",
       "    }\n",
       "\n",
       "    .dataframe tbody tr th {\n",
       "        vertical-align: top;\n",
       "    }\n",
       "\n",
       "    .dataframe thead th {\n",
       "        text-align: right;\n",
       "    }\n",
       "</style>\n",
       "<table border=\"1\" class=\"dataframe\">\n",
       "  <thead>\n",
       "    <tr style=\"text-align: right;\">\n",
       "      <th></th>\n",
       "      <th>Tenure</th>\n",
       "      <th>Balance</th>\n",
       "      <th>NumOfProducts</th>\n",
       "      <th>HasCrCard</th>\n",
       "      <th>IsActiveMember</th>\n",
       "      <th>cr_Modest</th>\n",
       "      <th>cr_Good</th>\n",
       "      <th>cr_Very_good</th>\n",
       "      <th>gg_Germany</th>\n",
       "      <th>gg_Spain</th>\n",
       "      <th>yrs_Adult</th>\n",
       "      <th>yrs_Old</th>\n",
       "      <th>yrs_Sr Citizen</th>\n",
       "      <th>yrs_Super sr citizen</th>\n",
       "      <th>sl_V.Poor</th>\n",
       "      <th>sl_Modest</th>\n",
       "      <th>sl_Rich</th>\n",
       "      <th>sl_Very Rich</th>\n",
       "    </tr>\n",
       "  </thead>\n",
       "  <tbody>\n",
       "    <tr>\n",
       "      <th>9394</th>\n",
       "      <td>1.044737</td>\n",
       "      <td>0.879303</td>\n",
       "      <td>-0.921591</td>\n",
       "      <td>1</td>\n",
       "      <td>1</td>\n",
       "      <td>1</td>\n",
       "      <td>0</td>\n",
       "      <td>0</td>\n",
       "      <td>1</td>\n",
       "      <td>0</td>\n",
       "      <td>1</td>\n",
       "      <td>0</td>\n",
       "      <td>0</td>\n",
       "      <td>0</td>\n",
       "      <td>0</td>\n",
       "      <td>0</td>\n",
       "      <td>0</td>\n",
       "      <td>1</td>\n",
       "    </tr>\n",
       "    <tr>\n",
       "      <th>898</th>\n",
       "      <td>-1.031415</td>\n",
       "      <td>0.429722</td>\n",
       "      <td>-0.921591</td>\n",
       "      <td>1</td>\n",
       "      <td>0</td>\n",
       "      <td>1</td>\n",
       "      <td>0</td>\n",
       "      <td>0</td>\n",
       "      <td>0</td>\n",
       "      <td>0</td>\n",
       "      <td>1</td>\n",
       "      <td>0</td>\n",
       "      <td>0</td>\n",
       "      <td>0</td>\n",
       "      <td>0</td>\n",
       "      <td>0</td>\n",
       "      <td>1</td>\n",
       "      <td>0</td>\n",
       "    </tr>\n",
       "    <tr>\n",
       "      <th>2398</th>\n",
       "      <td>1.044737</td>\n",
       "      <td>0.308583</td>\n",
       "      <td>-0.921591</td>\n",
       "      <td>1</td>\n",
       "      <td>1</td>\n",
       "      <td>0</td>\n",
       "      <td>1</td>\n",
       "      <td>0</td>\n",
       "      <td>0</td>\n",
       "      <td>1</td>\n",
       "      <td>0</td>\n",
       "      <td>1</td>\n",
       "      <td>0</td>\n",
       "      <td>0</td>\n",
       "      <td>0</td>\n",
       "      <td>1</td>\n",
       "      <td>0</td>\n",
       "      <td>0</td>\n",
       "    </tr>\n",
       "    <tr>\n",
       "      <th>5906</th>\n",
       "      <td>-0.339364</td>\n",
       "      <td>0.575336</td>\n",
       "      <td>-0.921591</td>\n",
       "      <td>0</td>\n",
       "      <td>0</td>\n",
       "      <td>0</td>\n",
       "      <td>1</td>\n",
       "      <td>0</td>\n",
       "      <td>0</td>\n",
       "      <td>0</td>\n",
       "      <td>1</td>\n",
       "      <td>0</td>\n",
       "      <td>0</td>\n",
       "      <td>0</td>\n",
       "      <td>0</td>\n",
       "      <td>1</td>\n",
       "      <td>0</td>\n",
       "      <td>0</td>\n",
       "    </tr>\n",
       "    <tr>\n",
       "      <th>2343</th>\n",
       "      <td>0.006661</td>\n",
       "      <td>1.389611</td>\n",
       "      <td>0.809503</td>\n",
       "      <td>1</td>\n",
       "      <td>1</td>\n",
       "      <td>0</td>\n",
       "      <td>1</td>\n",
       "      <td>0</td>\n",
       "      <td>1</td>\n",
       "      <td>0</td>\n",
       "      <td>1</td>\n",
       "      <td>0</td>\n",
       "      <td>0</td>\n",
       "      <td>0</td>\n",
       "      <td>0</td>\n",
       "      <td>0</td>\n",
       "      <td>1</td>\n",
       "      <td>0</td>\n",
       "    </tr>\n",
       "  </tbody>\n",
       "</table>\n",
       "</div>"
      ],
      "text/plain": [
       "        Tenure   Balance  NumOfProducts  HasCrCard  IsActiveMember  cr_Modest  \\\n",
       "9394  1.044737  0.879303      -0.921591          1               1          1   \n",
       "898  -1.031415  0.429722      -0.921591          1               0          1   \n",
       "2398  1.044737  0.308583      -0.921591          1               1          0   \n",
       "5906 -0.339364  0.575336      -0.921591          0               0          0   \n",
       "2343  0.006661  1.389611       0.809503          1               1          0   \n",
       "\n",
       "      cr_Good  cr_Very_good  gg_Germany  gg_Spain  yrs_Adult  yrs_Old  \\\n",
       "9394        0             0           1         0          1        0   \n",
       "898         0             0           0         0          1        0   \n",
       "2398        1             0           0         1          0        1   \n",
       "5906        1             0           0         0          1        0   \n",
       "2343        1             0           1         0          1        0   \n",
       "\n",
       "      yrs_Sr Citizen  yrs_Super sr citizen  sl_V.Poor  sl_Modest  sl_Rich  \\\n",
       "9394               0                     0          0          0        0   \n",
       "898                0                     0          0          0        1   \n",
       "2398               0                     0          0          1        0   \n",
       "5906               0                     0          0          1        0   \n",
       "2343               0                     0          0          0        1   \n",
       "\n",
       "      sl_Very Rich  \n",
       "9394             1  \n",
       "898              0  \n",
       "2398             0  \n",
       "5906             0  \n",
       "2343             0  "
      ]
     },
     "execution_count": 61,
     "metadata": {},
     "output_type": "execute_result"
    }
   ],
   "source": [
    "X_test[['Tenure','Balance','NumOfProducts']] = scaler.transform(X_test[['Tenure','Balance','NumOfProducts']])\n",
    "X_test.head()"
   ]
  },
  {
   "cell_type": "code",
   "execution_count": 62,
   "metadata": {},
   "outputs": [],
   "source": [
    "X_test_sm = sm.add_constant(X_test) "
   ]
  },
  {
   "cell_type": "code",
   "execution_count": 63,
   "metadata": {},
   "outputs": [],
   "source": [
    "## making predictions \n",
    "y_test_pred = res.predict(X_test_sm)"
   ]
  },
  {
   "cell_type": "code",
   "execution_count": 64,
   "metadata": {},
   "outputs": [
    {
     "data": {
      "text/plain": [
       "9394    0.128675\n",
       "898     0.139762\n",
       "2398    0.239363\n",
       "5906    0.128184\n",
       "2343    0.123499\n",
       "8225    0.459648\n",
       "5506    0.063946\n",
       "6451    0.061469\n",
       "2670    0.164143\n",
       "3497    0.454462\n",
       "dtype: float64"
      ]
     },
     "execution_count": 64,
     "metadata": {},
     "output_type": "execute_result"
    }
   ],
   "source": [
    "y_test_pred[:10]"
   ]
  },
  {
   "cell_type": "code",
   "execution_count": 65,
   "metadata": {},
   "outputs": [],
   "source": [
    "y_pred_1 = pd.DataFrame(y_test_pred)"
   ]
  },
  {
   "cell_type": "code",
   "execution_count": 66,
   "metadata": {},
   "outputs": [
    {
     "data": {
      "text/html": [
       "<div>\n",
       "<style scoped>\n",
       "    .dataframe tbody tr th:only-of-type {\n",
       "        vertical-align: middle;\n",
       "    }\n",
       "\n",
       "    .dataframe tbody tr th {\n",
       "        vertical-align: top;\n",
       "    }\n",
       "\n",
       "    .dataframe thead th {\n",
       "        text-align: right;\n",
       "    }\n",
       "</style>\n",
       "<table border=\"1\" class=\"dataframe\">\n",
       "  <thead>\n",
       "    <tr style=\"text-align: right;\">\n",
       "      <th></th>\n",
       "      <th>Exited</th>\n",
       "    </tr>\n",
       "  </thead>\n",
       "  <tbody>\n",
       "    <tr>\n",
       "      <th>9394</th>\n",
       "      <td>0</td>\n",
       "    </tr>\n",
       "    <tr>\n",
       "      <th>898</th>\n",
       "      <td>1</td>\n",
       "    </tr>\n",
       "    <tr>\n",
       "      <th>2398</th>\n",
       "      <td>0</td>\n",
       "    </tr>\n",
       "    <tr>\n",
       "      <th>5906</th>\n",
       "      <td>0</td>\n",
       "    </tr>\n",
       "    <tr>\n",
       "      <th>2343</th>\n",
       "      <td>0</td>\n",
       "    </tr>\n",
       "  </tbody>\n",
       "</table>\n",
       "</div>"
      ],
      "text/plain": [
       "      Exited\n",
       "9394       0\n",
       "898        1\n",
       "2398       0\n",
       "5906       0\n",
       "2343       0"
      ]
     },
     "execution_count": 66,
     "metadata": {},
     "output_type": "execute_result"
    }
   ],
   "source": [
    "# Converting y_test to dataframe\n",
    "y_test_df = pd.DataFrame(y_test)\n",
    "y_test_df.head()"
   ]
  },
  {
   "cell_type": "code",
   "execution_count": 67,
   "metadata": {},
   "outputs": [
    {
     "data": {
      "text/html": [
       "<div>\n",
       "<style scoped>\n",
       "    .dataframe tbody tr th:only-of-type {\n",
       "        vertical-align: middle;\n",
       "    }\n",
       "\n",
       "    .dataframe tbody tr th {\n",
       "        vertical-align: top;\n",
       "    }\n",
       "\n",
       "    .dataframe thead th {\n",
       "        text-align: right;\n",
       "    }\n",
       "</style>\n",
       "<table border=\"1\" class=\"dataframe\">\n",
       "  <thead>\n",
       "    <tr style=\"text-align: right;\">\n",
       "      <th></th>\n",
       "      <th>Exited</th>\n",
       "      <th>CustomerId</th>\n",
       "    </tr>\n",
       "  </thead>\n",
       "  <tbody>\n",
       "    <tr>\n",
       "      <th>9394</th>\n",
       "      <td>0</td>\n",
       "      <td>9394</td>\n",
       "    </tr>\n",
       "    <tr>\n",
       "      <th>898</th>\n",
       "      <td>1</td>\n",
       "      <td>898</td>\n",
       "    </tr>\n",
       "    <tr>\n",
       "      <th>2398</th>\n",
       "      <td>0</td>\n",
       "      <td>2398</td>\n",
       "    </tr>\n",
       "    <tr>\n",
       "      <th>5906</th>\n",
       "      <td>0</td>\n",
       "      <td>5906</td>\n",
       "    </tr>\n",
       "    <tr>\n",
       "      <th>2343</th>\n",
       "      <td>0</td>\n",
       "      <td>2343</td>\n",
       "    </tr>\n",
       "  </tbody>\n",
       "</table>\n",
       "</div>"
      ],
      "text/plain": [
       "      Exited  CustomerId\n",
       "9394       0        9394\n",
       "898        1         898\n",
       "2398       0        2398\n",
       "5906       0        5906\n",
       "2343       0        2343"
      ]
     },
     "execution_count": 67,
     "metadata": {},
     "output_type": "execute_result"
    }
   ],
   "source": [
    "# Putting CustID to index\n",
    "y_test_df['CustomerId'] = y_test_df.index\n",
    "y_test_df.head()"
   ]
  },
  {
   "cell_type": "code",
   "execution_count": 68,
   "metadata": {},
   "outputs": [
    {
     "data": {
      "text/html": [
       "<div>\n",
       "<style scoped>\n",
       "    .dataframe tbody tr th:only-of-type {\n",
       "        vertical-align: middle;\n",
       "    }\n",
       "\n",
       "    .dataframe tbody tr th {\n",
       "        vertical-align: top;\n",
       "    }\n",
       "\n",
       "    .dataframe thead th {\n",
       "        text-align: right;\n",
       "    }\n",
       "</style>\n",
       "<table border=\"1\" class=\"dataframe\">\n",
       "  <thead>\n",
       "    <tr style=\"text-align: right;\">\n",
       "      <th></th>\n",
       "      <th>0</th>\n",
       "    </tr>\n",
       "  </thead>\n",
       "  <tbody>\n",
       "    <tr>\n",
       "      <th>0</th>\n",
       "      <td>0.128675</td>\n",
       "    </tr>\n",
       "    <tr>\n",
       "      <th>1</th>\n",
       "      <td>0.139762</td>\n",
       "    </tr>\n",
       "    <tr>\n",
       "      <th>2</th>\n",
       "      <td>0.239363</td>\n",
       "    </tr>\n",
       "    <tr>\n",
       "      <th>3</th>\n",
       "      <td>0.128184</td>\n",
       "    </tr>\n",
       "    <tr>\n",
       "      <th>4</th>\n",
       "      <td>0.123499</td>\n",
       "    </tr>\n",
       "  </tbody>\n",
       "</table>\n",
       "</div>"
      ],
      "text/plain": [
       "          0\n",
       "0  0.128675\n",
       "1  0.139762\n",
       "2  0.239363\n",
       "3  0.128184\n",
       "4  0.123499"
      ]
     },
     "execution_count": 68,
     "metadata": {},
     "output_type": "execute_result"
    }
   ],
   "source": [
    "# Removing index for both dataframes to append them side by side \n",
    "y_pred_1.reset_index(drop=True, inplace=True)\n",
    "y_test_df.reset_index(drop=True, inplace=True)\n",
    "y_pred_1.head()"
   ]
  },
  {
   "cell_type": "code",
   "execution_count": 69,
   "metadata": {},
   "outputs": [
    {
     "data": {
      "text/html": [
       "<div>\n",
       "<style scoped>\n",
       "    .dataframe tbody tr th:only-of-type {\n",
       "        vertical-align: middle;\n",
       "    }\n",
       "\n",
       "    .dataframe tbody tr th {\n",
       "        vertical-align: top;\n",
       "    }\n",
       "\n",
       "    .dataframe thead th {\n",
       "        text-align: right;\n",
       "    }\n",
       "</style>\n",
       "<table border=\"1\" class=\"dataframe\">\n",
       "  <thead>\n",
       "    <tr style=\"text-align: right;\">\n",
       "      <th></th>\n",
       "      <th>Exited</th>\n",
       "      <th>CustomerId</th>\n",
       "    </tr>\n",
       "  </thead>\n",
       "  <tbody>\n",
       "    <tr>\n",
       "      <th>0</th>\n",
       "      <td>0</td>\n",
       "      <td>9394</td>\n",
       "    </tr>\n",
       "    <tr>\n",
       "      <th>1</th>\n",
       "      <td>1</td>\n",
       "      <td>898</td>\n",
       "    </tr>\n",
       "    <tr>\n",
       "      <th>2</th>\n",
       "      <td>0</td>\n",
       "      <td>2398</td>\n",
       "    </tr>\n",
       "    <tr>\n",
       "      <th>3</th>\n",
       "      <td>0</td>\n",
       "      <td>5906</td>\n",
       "    </tr>\n",
       "    <tr>\n",
       "      <th>4</th>\n",
       "      <td>0</td>\n",
       "      <td>2343</td>\n",
       "    </tr>\n",
       "  </tbody>\n",
       "</table>\n",
       "</div>"
      ],
      "text/plain": [
       "   Exited  CustomerId\n",
       "0       0        9394\n",
       "1       1         898\n",
       "2       0        2398\n",
       "3       0        5906\n",
       "4       0        2343"
      ]
     },
     "execution_count": 69,
     "metadata": {},
     "output_type": "execute_result"
    }
   ],
   "source": [
    "y_test_df.head()"
   ]
  },
  {
   "cell_type": "code",
   "execution_count": 70,
   "metadata": {},
   "outputs": [
    {
     "data": {
      "text/html": [
       "<div>\n",
       "<style scoped>\n",
       "    .dataframe tbody tr th:only-of-type {\n",
       "        vertical-align: middle;\n",
       "    }\n",
       "\n",
       "    .dataframe tbody tr th {\n",
       "        vertical-align: top;\n",
       "    }\n",
       "\n",
       "    .dataframe thead th {\n",
       "        text-align: right;\n",
       "    }\n",
       "</style>\n",
       "<table border=\"1\" class=\"dataframe\">\n",
       "  <thead>\n",
       "    <tr style=\"text-align: right;\">\n",
       "      <th></th>\n",
       "      <th>Exited</th>\n",
       "      <th>CustomerId</th>\n",
       "      <th>0</th>\n",
       "    </tr>\n",
       "  </thead>\n",
       "  <tbody>\n",
       "    <tr>\n",
       "      <th>0</th>\n",
       "      <td>0</td>\n",
       "      <td>9394</td>\n",
       "      <td>0.128675</td>\n",
       "    </tr>\n",
       "    <tr>\n",
       "      <th>1</th>\n",
       "      <td>1</td>\n",
       "      <td>898</td>\n",
       "      <td>0.139762</td>\n",
       "    </tr>\n",
       "    <tr>\n",
       "      <th>2</th>\n",
       "      <td>0</td>\n",
       "      <td>2398</td>\n",
       "      <td>0.239363</td>\n",
       "    </tr>\n",
       "    <tr>\n",
       "      <th>3</th>\n",
       "      <td>0</td>\n",
       "      <td>5906</td>\n",
       "      <td>0.128184</td>\n",
       "    </tr>\n",
       "    <tr>\n",
       "      <th>4</th>\n",
       "      <td>0</td>\n",
       "      <td>2343</td>\n",
       "      <td>0.123499</td>\n",
       "    </tr>\n",
       "  </tbody>\n",
       "</table>\n",
       "</div>"
      ],
      "text/plain": [
       "   Exited  CustomerId         0\n",
       "0       0        9394  0.128675\n",
       "1       1         898  0.139762\n",
       "2       0        2398  0.239363\n",
       "3       0        5906  0.128184\n",
       "4       0        2343  0.123499"
      ]
     },
     "execution_count": 70,
     "metadata": {},
     "output_type": "execute_result"
    }
   ],
   "source": [
    "# Appending y_test_df and y_pred_1\n",
    "y_pred_final = pd.concat([y_test_df, y_pred_1],axis=1)\n",
    "y_pred_final.head()"
   ]
  },
  {
   "cell_type": "code",
   "execution_count": 71,
   "metadata": {},
   "outputs": [
    {
     "data": {
      "text/html": [
       "<div>\n",
       "<style scoped>\n",
       "    .dataframe tbody tr th:only-of-type {\n",
       "        vertical-align: middle;\n",
       "    }\n",
       "\n",
       "    .dataframe tbody tr th {\n",
       "        vertical-align: top;\n",
       "    }\n",
       "\n",
       "    .dataframe thead th {\n",
       "        text-align: right;\n",
       "    }\n",
       "</style>\n",
       "<table border=\"1\" class=\"dataframe\">\n",
       "  <thead>\n",
       "    <tr style=\"text-align: right;\">\n",
       "      <th></th>\n",
       "      <th>Exited</th>\n",
       "      <th>CustomerId</th>\n",
       "      <th>Conversion_Prob</th>\n",
       "    </tr>\n",
       "  </thead>\n",
       "  <tbody>\n",
       "    <tr>\n",
       "      <th>0</th>\n",
       "      <td>0</td>\n",
       "      <td>9394</td>\n",
       "      <td>0.128675</td>\n",
       "    </tr>\n",
       "    <tr>\n",
       "      <th>1</th>\n",
       "      <td>1</td>\n",
       "      <td>898</td>\n",
       "      <td>0.139762</td>\n",
       "    </tr>\n",
       "    <tr>\n",
       "      <th>2</th>\n",
       "      <td>0</td>\n",
       "      <td>2398</td>\n",
       "      <td>0.239363</td>\n",
       "    </tr>\n",
       "    <tr>\n",
       "      <th>3</th>\n",
       "      <td>0</td>\n",
       "      <td>5906</td>\n",
       "      <td>0.128184</td>\n",
       "    </tr>\n",
       "    <tr>\n",
       "      <th>4</th>\n",
       "      <td>0</td>\n",
       "      <td>2343</td>\n",
       "      <td>0.123499</td>\n",
       "    </tr>\n",
       "  </tbody>\n",
       "</table>\n",
       "</div>"
      ],
      "text/plain": [
       "   Exited  CustomerId  Conversion_Prob\n",
       "0       0        9394         0.128675\n",
       "1       1         898         0.139762\n",
       "2       0        2398         0.239363\n",
       "3       0        5906         0.128184\n",
       "4       0        2343         0.123499"
      ]
     },
     "execution_count": 71,
     "metadata": {},
     "output_type": "execute_result"
    }
   ],
   "source": [
    "# Renaming the column \n",
    "y_pred_final= y_pred_final.rename(columns={ 0 : 'Conversion_Prob'})\n",
    "y_pred_final.head()"
   ]
  },
  {
   "cell_type": "code",
   "execution_count": 72,
   "metadata": {},
   "outputs": [],
   "source": [
    "y_pred_final.Exited=y_test.values"
   ]
  },
  {
   "cell_type": "code",
   "execution_count": 73,
   "metadata": {},
   "outputs": [
    {
     "name": "stderr",
     "output_type": "stream",
     "text": [
      "C:\\Users\\apurv\\Anaconda3\\lib\\site-packages\\ipykernel_launcher.py:2: FutureWarning: '.reindex_axis' is deprecated and will be removed in a future version. Use '.reindex' instead.\n",
      "  \n"
     ]
    },
    {
     "data": {
      "text/html": [
       "<div>\n",
       "<style scoped>\n",
       "    .dataframe tbody tr th:only-of-type {\n",
       "        vertical-align: middle;\n",
       "    }\n",
       "\n",
       "    .dataframe tbody tr th {\n",
       "        vertical-align: top;\n",
       "    }\n",
       "\n",
       "    .dataframe thead th {\n",
       "        text-align: right;\n",
       "    }\n",
       "</style>\n",
       "<table border=\"1\" class=\"dataframe\">\n",
       "  <thead>\n",
       "    <tr style=\"text-align: right;\">\n",
       "      <th></th>\n",
       "      <th>CustomerId</th>\n",
       "      <th>Exited</th>\n",
       "      <th>Conversion_Prob</th>\n",
       "    </tr>\n",
       "  </thead>\n",
       "  <tbody>\n",
       "    <tr>\n",
       "      <th>0</th>\n",
       "      <td>9394</td>\n",
       "      <td>0</td>\n",
       "      <td>0.128675</td>\n",
       "    </tr>\n",
       "    <tr>\n",
       "      <th>1</th>\n",
       "      <td>898</td>\n",
       "      <td>1</td>\n",
       "      <td>0.139762</td>\n",
       "    </tr>\n",
       "    <tr>\n",
       "      <th>2</th>\n",
       "      <td>2398</td>\n",
       "      <td>0</td>\n",
       "      <td>0.239363</td>\n",
       "    </tr>\n",
       "    <tr>\n",
       "      <th>3</th>\n",
       "      <td>5906</td>\n",
       "      <td>0</td>\n",
       "      <td>0.128184</td>\n",
       "    </tr>\n",
       "    <tr>\n",
       "      <th>4</th>\n",
       "      <td>2343</td>\n",
       "      <td>0</td>\n",
       "      <td>0.123499</td>\n",
       "    </tr>\n",
       "  </tbody>\n",
       "</table>\n",
       "</div>"
      ],
      "text/plain": [
       "   CustomerId  Exited  Conversion_Prob\n",
       "0        9394       0         0.128675\n",
       "1         898       1         0.139762\n",
       "2        2398       0         0.239363\n",
       "3        5906       0         0.128184\n",
       "4        2343       0         0.123499"
      ]
     },
     "execution_count": 73,
     "metadata": {},
     "output_type": "execute_result"
    }
   ],
   "source": [
    "# Rearranging the columns\n",
    "y_pred_final = y_pred_final.reindex_axis(['CustomerId','Exited','Conversion_Prob'], axis=1)\n",
    "y_pred_final.head()"
   ]
  },
  {
   "cell_type": "code",
   "execution_count": null,
   "metadata": {},
   "outputs": [],
   "source": []
  },
  {
   "cell_type": "code",
   "execution_count": 74,
   "metadata": {},
   "outputs": [],
   "source": [
    "y_pred_final['final_predicted'] = y_pred_final.Conversion_Prob.map(lambda x: 1 if x > 0.5 else 0)"
   ]
  },
  {
   "cell_type": "code",
   "execution_count": 75,
   "metadata": {},
   "outputs": [],
   "source": [
    "# Let's check the overall accuracy.\n",
    "#metrics.accuracy_score(y_pred_final.Converted, y_pred_final.final_predicted)"
   ]
  },
  {
   "cell_type": "code",
   "execution_count": 76,
   "metadata": {},
   "outputs": [
    {
     "data": {
      "text/html": [
       "<div>\n",
       "<style scoped>\n",
       "    .dataframe tbody tr th:only-of-type {\n",
       "        vertical-align: middle;\n",
       "    }\n",
       "\n",
       "    .dataframe tbody tr th {\n",
       "        vertical-align: top;\n",
       "    }\n",
       "\n",
       "    .dataframe thead th {\n",
       "        text-align: right;\n",
       "    }\n",
       "</style>\n",
       "<table border=\"1\" class=\"dataframe\">\n",
       "  <thead>\n",
       "    <tr style=\"text-align: right;\">\n",
       "      <th></th>\n",
       "      <th>CustomerId</th>\n",
       "      <th>Exited</th>\n",
       "      <th>Conversion_Prob</th>\n",
       "      <th>final_predicted</th>\n",
       "    </tr>\n",
       "  </thead>\n",
       "  <tbody>\n",
       "    <tr>\n",
       "      <th>0</th>\n",
       "      <td>9394</td>\n",
       "      <td>0</td>\n",
       "      <td>0.128675</td>\n",
       "      <td>0</td>\n",
       "    </tr>\n",
       "    <tr>\n",
       "      <th>1</th>\n",
       "      <td>898</td>\n",
       "      <td>1</td>\n",
       "      <td>0.139762</td>\n",
       "      <td>0</td>\n",
       "    </tr>\n",
       "    <tr>\n",
       "      <th>2</th>\n",
       "      <td>2398</td>\n",
       "      <td>0</td>\n",
       "      <td>0.239363</td>\n",
       "      <td>0</td>\n",
       "    </tr>\n",
       "    <tr>\n",
       "      <th>3</th>\n",
       "      <td>5906</td>\n",
       "      <td>0</td>\n",
       "      <td>0.128184</td>\n",
       "      <td>0</td>\n",
       "    </tr>\n",
       "    <tr>\n",
       "      <th>4</th>\n",
       "      <td>2343</td>\n",
       "      <td>0</td>\n",
       "      <td>0.123499</td>\n",
       "      <td>0</td>\n",
       "    </tr>\n",
       "  </tbody>\n",
       "</table>\n",
       "</div>"
      ],
      "text/plain": [
       "   CustomerId  Exited  Conversion_Prob  final_predicted\n",
       "0        9394       0         0.128675                0\n",
       "1         898       1         0.139762                0\n",
       "2        2398       0         0.239363                0\n",
       "3        5906       0         0.128184                0\n",
       "4        2343       0         0.123499                0"
      ]
     },
     "execution_count": 76,
     "metadata": {},
     "output_type": "execute_result"
    }
   ],
   "source": [
    "y_pred_final.head()"
   ]
  },
  {
   "cell_type": "markdown",
   "metadata": {},
   "source": [
    "### Predicting the Test set results\n"
   ]
  },
  {
   "cell_type": "code",
   "execution_count": 77,
   "metadata": {},
   "outputs": [],
   "source": [
    "y_pred = classifier.predict(X_test)\n",
    "y_pred = (y_pred > 0.5)\n"
   ]
  },
  {
   "cell_type": "code",
   "execution_count": null,
   "metadata": {},
   "outputs": [],
   "source": []
  },
  {
   "cell_type": "markdown",
   "metadata": {},
   "source": [
    "### Making the Confusion Matrix\n"
   ]
  },
  {
   "cell_type": "code",
   "execution_count": 78,
   "metadata": {},
   "outputs": [],
   "source": [
    "from sklearn.metrics import confusion_matrix\n",
    "confusion= confusion_matrix(y_test, y_pred)"
   ]
  },
  {
   "cell_type": "code",
   "execution_count": 79,
   "metadata": {},
   "outputs": [
    {
     "data": {
      "text/plain": [
       "array([[1482,  113],\n",
       "       [ 203,  202]], dtype=int64)"
      ]
     },
     "execution_count": 79,
     "metadata": {},
     "output_type": "execute_result"
    }
   ],
   "source": [
    "confusion"
   ]
  },
  {
   "cell_type": "code",
   "execution_count": 80,
   "metadata": {},
   "outputs": [],
   "source": [
    "TP = confusion[1,1] # true positive \n",
    "TN = confusion[0,0] # true negatives\n",
    "FP = confusion[0,1] # false positives\n",
    "FN = confusion[1,0] # false negatives"
   ]
  },
  {
   "cell_type": "code",
   "execution_count": 81,
   "metadata": {},
   "outputs": [
    {
     "data": {
      "text/plain": [
       "0.49876543209876545"
      ]
     },
     "execution_count": 81,
     "metadata": {},
     "output_type": "execute_result"
    }
   ],
   "source": [
    "# Let's see the sensitivity of our logistic regression model\n",
    "TP / float(TP+FN)"
   ]
  },
  {
   "cell_type": "code",
   "execution_count": 82,
   "metadata": {},
   "outputs": [
    {
     "data": {
      "text/plain": [
       "0.929153605015674"
      ]
     },
     "execution_count": 82,
     "metadata": {},
     "output_type": "execute_result"
    }
   ],
   "source": [
    "# Let us calculate specificity\n",
    "TN / float(TN+FP)"
   ]
  },
  {
   "cell_type": "code",
   "execution_count": null,
   "metadata": {},
   "outputs": [],
   "source": []
  },
  {
   "cell_type": "code",
   "execution_count": 83,
   "metadata": {},
   "outputs": [
    {
     "data": {
      "text/plain": [
       "0.6412698412698413"
      ]
     },
     "execution_count": 83,
     "metadata": {},
     "output_type": "execute_result"
    }
   ],
   "source": [
    "## precision= TP/TP+FP\n",
    "confusion[1,1]/(confusion[0,1]+confusion[1,1])"
   ]
  },
  {
   "cell_type": "code",
   "execution_count": 84,
   "metadata": {},
   "outputs": [
    {
     "data": {
      "text/plain": [
       "0.49876543209876545"
      ]
     },
     "execution_count": 84,
     "metadata": {},
     "output_type": "execute_result"
    }
   ],
   "source": [
    "#Recall=TP/TP+FN\n",
    "confusion[1,1]/(confusion[1,0]+confusion[1,1])"
   ]
  },
  {
   "cell_type": "code",
   "execution_count": 85,
   "metadata": {},
   "outputs": [
    {
     "data": {
      "text/plain": [
       "1684"
      ]
     },
     "execution_count": 85,
     "metadata": {},
     "output_type": "execute_result"
    }
   ],
   "source": [
    "#  accuracy\n",
    "TRUE=TP+TN\n",
    "TRUE"
   ]
  },
  {
   "cell_type": "code",
   "execution_count": 86,
   "metadata": {},
   "outputs": [
    {
     "data": {
      "text/plain": [
       "2000"
      ]
     },
     "execution_count": 86,
     "metadata": {},
     "output_type": "execute_result"
    }
   ],
   "source": [
    "TOTAL=TP+TN+FP+FN\n",
    "TOTAL"
   ]
  },
  {
   "cell_type": "code",
   "execution_count": 87,
   "metadata": {},
   "outputs": [
    {
     "data": {
      "text/plain": [
       "84.2"
      ]
     },
     "execution_count": 87,
     "metadata": {},
     "output_type": "execute_result"
    }
   ],
   "source": [
    "#Accuracy\n",
    "(TRUE/TOTAL)*100"
   ]
  },
  {
   "cell_type": "code",
   "execution_count": 88,
   "metadata": {},
   "outputs": [],
   "source": [
    "def draw_roc( actual, probs ):\n",
    "    fpr, tpr, thresholds = metrics.roc_curve( actual, probs,\n",
    "                                              drop_intermediate = False )\n",
    "    auc_score = metrics.roc_auc_score( actual, probs )\n",
    "    plt.figure(figsize=(5, 5))\n",
    "    plt.plot( fpr, tpr, label='ROC curve (area = %0.2f)' % auc_score )\n",
    "    plt.plot([0, 1], [0, 1], 'k--')\n",
    "    plt.xlim([0.0, 1.0])\n",
    "    plt.ylim([0.0, 1.05])\n",
    "    plt.xlabel('False Positive Rate or [1 - True Negative Rate]')\n",
    "    plt.ylabel('True Positive Rate')\n",
    "    plt.title('Receiver operating characteristic example')\n",
    "    plt.legend(loc=\"lower right\")\n",
    "    plt.show()\n",
    "\n",
    "    return fpr,tpr, thresholds"
   ]
  },
  {
   "cell_type": "code",
   "execution_count": 89,
   "metadata": {},
   "outputs": [
    {
     "data": {
      "text/html": [
       "<div>\n",
       "<style scoped>\n",
       "    .dataframe tbody tr th:only-of-type {\n",
       "        vertical-align: middle;\n",
       "    }\n",
       "\n",
       "    .dataframe tbody tr th {\n",
       "        vertical-align: top;\n",
       "    }\n",
       "\n",
       "    .dataframe thead th {\n",
       "        text-align: right;\n",
       "    }\n",
       "</style>\n",
       "<table border=\"1\" class=\"dataframe\">\n",
       "  <thead>\n",
       "    <tr style=\"text-align: right;\">\n",
       "      <th></th>\n",
       "      <th>CustomerId</th>\n",
       "      <th>Exited</th>\n",
       "      <th>Conversion_Prob</th>\n",
       "      <th>final_predicted</th>\n",
       "    </tr>\n",
       "  </thead>\n",
       "  <tbody>\n",
       "    <tr>\n",
       "      <th>0</th>\n",
       "      <td>9394</td>\n",
       "      <td>0</td>\n",
       "      <td>0.128675</td>\n",
       "      <td>0</td>\n",
       "    </tr>\n",
       "    <tr>\n",
       "      <th>1</th>\n",
       "      <td>898</td>\n",
       "      <td>1</td>\n",
       "      <td>0.139762</td>\n",
       "      <td>0</td>\n",
       "    </tr>\n",
       "    <tr>\n",
       "      <th>2</th>\n",
       "      <td>2398</td>\n",
       "      <td>0</td>\n",
       "      <td>0.239363</td>\n",
       "      <td>0</td>\n",
       "    </tr>\n",
       "    <tr>\n",
       "      <th>3</th>\n",
       "      <td>5906</td>\n",
       "      <td>0</td>\n",
       "      <td>0.128184</td>\n",
       "      <td>0</td>\n",
       "    </tr>\n",
       "    <tr>\n",
       "      <th>4</th>\n",
       "      <td>2343</td>\n",
       "      <td>0</td>\n",
       "      <td>0.123499</td>\n",
       "      <td>0</td>\n",
       "    </tr>\n",
       "  </tbody>\n",
       "</table>\n",
       "</div>"
      ],
      "text/plain": [
       "   CustomerId  Exited  Conversion_Prob  final_predicted\n",
       "0        9394       0         0.128675                0\n",
       "1         898       1         0.139762                0\n",
       "2        2398       0         0.239363                0\n",
       "3        5906       0         0.128184                0\n",
       "4        2343       0         0.123499                0"
      ]
     },
     "execution_count": 89,
     "metadata": {},
     "output_type": "execute_result"
    }
   ],
   "source": [
    "y_pred_final.head()"
   ]
  },
  {
   "cell_type": "code",
   "execution_count": 90,
   "metadata": {},
   "outputs": [],
   "source": [
    "fpr, tpr, thresholds = metrics.roc_curve( y_pred_final.Exited, y_pred_final.Conversion_Prob, drop_intermediate = False )"
   ]
  },
  {
   "cell_type": "code",
   "execution_count": 91,
   "metadata": {},
   "outputs": [
    {
     "data": {
      "image/png": "[encoded data removed]",
      "text/plain": [
       "<Figure size 360x360 with 1 Axes>"
      ]
     },
     "metadata": {
      "needs_background": "light"
     },
     "output_type": "display_data"
    },
    {
     "data": {
      "text/plain": [
       "(array([0.00000000e+00, 6.26959248e-04, 6.26959248e-04, ...,\n",
       "        9.99373041e-01, 1.00000000e+00, 1.00000000e+00]),\n",
       " array([0.        , 0.        , 0.00246914, ..., 0.99753086, 0.99753086,\n",
       "        1.        ]),\n",
       " array([1.73453654, 0.73453654, 0.72451712, ..., 0.01678003, 0.01675744,\n",
       "        0.01525766]))"
      ]
     },
     "execution_count": 91,
     "metadata": {},
     "output_type": "execute_result"
    }
   ],
   "source": [
    "draw_roc(y_pred_final.Exited, y_pred_final.Conversion_Prob)"
   ]
  },
  {
   "cell_type": "code",
   "execution_count": null,
   "metadata": {},
   "outputs": [],
   "source": []
  },
  {
   "cell_type": "code",
   "execution_count": 92,
   "metadata": {},
   "outputs": [],
   "source": [
    "## Calculating area under yhe curve.\n",
    "def auc_val(fpr,tpr):\n",
    "    AreaUnderCurve = 0.\n",
    "    for i in range(len(fpr)-1):\n",
    "        AreaUnderCurve += (fpr[i+1]-fpr[i]) * (tpr[i+1]+tpr[i])\n",
    "    AreaUnderCurve *= 0.5\n",
    "    return AreaUnderCurve"
   ]
  },
  {
   "cell_type": "code",
   "execution_count": 93,
   "metadata": {},
   "outputs": [
    {
     "data": {
      "text/plain": [
       "0.7716660861488565"
      ]
     },
     "execution_count": 93,
     "metadata": {},
     "output_type": "execute_result"
    }
   ],
   "source": [
    "auc= auc_val(fpr,tpr)\n",
    "auc"
   ]
  },
  {
   "cell_type": "code",
   "execution_count": 94,
   "metadata": {},
   "outputs": [
    {
     "name": "stdout",
     "output_type": "stream",
     "text": [
      "Fitting 5 folds for each of 6 candidates, totalling 30 fits\n"
     ]
    },
    {
     "name": "stderr",
     "output_type": "stream",
     "text": [
      "[Parallel(n_jobs=1)]: Using backend SequentialBackend with 1 concurrent workers.\n",
      "[Parallel(n_jobs=1)]: Done  30 out of  30 | elapsed:    1.1s finished\n"
     ]
    },
    {
     "data": {
      "text/plain": [
       "GridSearchCV(cv=5, error_score='raise-deprecating',\n",
       "             estimator=Lasso(alpha=1.0, copy_X=True, fit_intercept=True,\n",
       "                             max_iter=1000, normalize=False, positive=False,\n",
       "                             precompute=False, random_state=None,\n",
       "                             selection='cyclic', tol=0.0001, warm_start=False),\n",
       "             iid='warn', n_jobs=None,\n",
       "             param_grid={'alpha': [0.0001, 0.0002, 0.0003, 0.0004, 0.0005,\n",
       "                                   0.001]},\n",
       "             pre_dispatch='2*n_jobs', refit=True, return_train_score=True,\n",
       "             scoring='neg_mean_absolute_error', verbose=1)"
      ]
     },
     "execution_count": 94,
     "metadata": {},
     "output_type": "execute_result"
    }
   ],
   "source": [
    "params = {'alpha': [0.0001,0.0002,0.0003,0.0004,0.0005,0.001, ]}\n",
    "\n",
    "folds=5\n",
    "\n",
    "\n",
    "lasso= Lasso()\n",
    "model_cv= GridSearchCV(estimator=lasso, param_grid=params , scoring='neg_mean_absolute_error',\n",
    "                       cv=folds, return_train_score=True, verbose=1)\n",
    "model_cv.fit(X_train,y_train)"
   ]
  },
  {
   "cell_type": "code",
   "execution_count": 95,
   "metadata": {
    "scrolled": false
   },
   "outputs": [
    {
     "data": {
      "text/html": [
       "<div>\n",
       "<style scoped>\n",
       "    .dataframe tbody tr th:only-of-type {\n",
       "        vertical-align: middle;\n",
       "    }\n",
       "\n",
       "    .dataframe tbody tr th {\n",
       "        vertical-align: top;\n",
       "    }\n",
       "\n",
       "    .dataframe thead th {\n",
       "        text-align: right;\n",
       "    }\n",
       "</style>\n",
       "<table border=\"1\" class=\"dataframe\">\n",
       "  <thead>\n",
       "    <tr style=\"text-align: right;\">\n",
       "      <th></th>\n",
       "      <th>mean_fit_time</th>\n",
       "      <th>std_fit_time</th>\n",
       "      <th>mean_score_time</th>\n",
       "      <th>std_score_time</th>\n",
       "      <th>param_alpha</th>\n",
       "      <th>params</th>\n",
       "      <th>split0_test_score</th>\n",
       "      <th>split1_test_score</th>\n",
       "      <th>split2_test_score</th>\n",
       "      <th>split3_test_score</th>\n",
       "      <th>...</th>\n",
       "      <th>mean_test_score</th>\n",
       "      <th>std_test_score</th>\n",
       "      <th>rank_test_score</th>\n",
       "      <th>split0_train_score</th>\n",
       "      <th>split1_train_score</th>\n",
       "      <th>split2_train_score</th>\n",
       "      <th>split3_train_score</th>\n",
       "      <th>split4_train_score</th>\n",
       "      <th>mean_train_score</th>\n",
       "      <th>std_train_score</th>\n",
       "    </tr>\n",
       "  </thead>\n",
       "  <tbody>\n",
       "    <tr>\n",
       "      <th>0</th>\n",
       "      <td>0.050789</td>\n",
       "      <td>0.006283</td>\n",
       "      <td>0.003023</td>\n",
       "      <td>0.003703</td>\n",
       "      <td>0.0001</td>\n",
       "      <td>{'alpha': 0.0001}</td>\n",
       "      <td>-0.278227</td>\n",
       "      <td>-0.279751</td>\n",
       "      <td>-0.270630</td>\n",
       "      <td>-0.277980</td>\n",
       "      <td>...</td>\n",
       "      <td>-0.276234</td>\n",
       "      <td>0.003272</td>\n",
       "      <td>5</td>\n",
       "      <td>-0.274712</td>\n",
       "      <td>-0.274601</td>\n",
       "      <td>-0.277271</td>\n",
       "      <td>-0.274713</td>\n",
       "      <td>-0.276256</td>\n",
       "      <td>-0.275511</td>\n",
       "      <td>0.001073</td>\n",
       "    </tr>\n",
       "    <tr>\n",
       "      <th>1</th>\n",
       "      <td>0.029606</td>\n",
       "      <td>0.010258</td>\n",
       "      <td>0.001106</td>\n",
       "      <td>0.001755</td>\n",
       "      <td>0.0002</td>\n",
       "      <td>{'alpha': 0.0002}</td>\n",
       "      <td>-0.278290</td>\n",
       "      <td>-0.279751</td>\n",
       "      <td>-0.270380</td>\n",
       "      <td>-0.277913</td>\n",
       "      <td>...</td>\n",
       "      <td>-0.276172</td>\n",
       "      <td>0.003364</td>\n",
       "      <td>4</td>\n",
       "      <td>-0.274659</td>\n",
       "      <td>-0.274572</td>\n",
       "      <td>-0.277230</td>\n",
       "      <td>-0.274637</td>\n",
       "      <td>-0.276228</td>\n",
       "      <td>-0.275465</td>\n",
       "      <td>0.001080</td>\n",
       "    </tr>\n",
       "    <tr>\n",
       "      <th>2</th>\n",
       "      <td>0.024939</td>\n",
       "      <td>0.003715</td>\n",
       "      <td>0.001651</td>\n",
       "      <td>0.001914</td>\n",
       "      <td>0.0003</td>\n",
       "      <td>{'alpha': 0.0003}</td>\n",
       "      <td>-0.278307</td>\n",
       "      <td>-0.279741</td>\n",
       "      <td>-0.270326</td>\n",
       "      <td>-0.277914</td>\n",
       "      <td>...</td>\n",
       "      <td>-0.276159</td>\n",
       "      <td>0.003384</td>\n",
       "      <td>2</td>\n",
       "      <td>-0.274664</td>\n",
       "      <td>-0.274574</td>\n",
       "      <td>-0.277248</td>\n",
       "      <td>-0.274625</td>\n",
       "      <td>-0.276240</td>\n",
       "      <td>-0.275470</td>\n",
       "      <td>0.001088</td>\n",
       "    </tr>\n",
       "    <tr>\n",
       "      <th>3</th>\n",
       "      <td>0.024141</td>\n",
       "      <td>0.004802</td>\n",
       "      <td>0.001588</td>\n",
       "      <td>0.002284</td>\n",
       "      <td>0.0004</td>\n",
       "      <td>{'alpha': 0.0004}</td>\n",
       "      <td>-0.278330</td>\n",
       "      <td>-0.279745</td>\n",
       "      <td>-0.270327</td>\n",
       "      <td>-0.277921</td>\n",
       "      <td>...</td>\n",
       "      <td>-0.276162</td>\n",
       "      <td>0.003391</td>\n",
       "      <td>3</td>\n",
       "      <td>-0.274681</td>\n",
       "      <td>-0.274593</td>\n",
       "      <td>-0.277281</td>\n",
       "      <td>-0.274625</td>\n",
       "      <td>-0.276254</td>\n",
       "      <td>-0.275487</td>\n",
       "      <td>0.001095</td>\n",
       "    </tr>\n",
       "    <tr>\n",
       "      <th>4</th>\n",
       "      <td>0.032667</td>\n",
       "      <td>0.005074</td>\n",
       "      <td>0.002239</td>\n",
       "      <td>0.002354</td>\n",
       "      <td>0.0005</td>\n",
       "      <td>{'alpha': 0.0005}</td>\n",
       "      <td>-0.278345</td>\n",
       "      <td>-0.279758</td>\n",
       "      <td>-0.270329</td>\n",
       "      <td>-0.277902</td>\n",
       "      <td>...</td>\n",
       "      <td>-0.276157</td>\n",
       "      <td>0.003397</td>\n",
       "      <td>1</td>\n",
       "      <td>-0.274699</td>\n",
       "      <td>-0.274618</td>\n",
       "      <td>-0.277307</td>\n",
       "      <td>-0.274626</td>\n",
       "      <td>-0.276264</td>\n",
       "      <td>-0.275503</td>\n",
       "      <td>0.001098</td>\n",
       "    </tr>\n",
       "  </tbody>\n",
       "</table>\n",
       "<p>5 rows × 21 columns</p>\n",
       "</div>"
      ],
      "text/plain": [
       "   mean_fit_time  std_fit_time  mean_score_time  std_score_time param_alpha  \\\n",
       "0       0.050789      0.006283         0.003023        0.003703      0.0001   \n",
       "1       0.029606      0.010258         0.001106        0.001755      0.0002   \n",
       "2       0.024939      0.003715         0.001651        0.001914      0.0003   \n",
       "3       0.024141      0.004802         0.001588        0.002284      0.0004   \n",
       "4       0.032667      0.005074         0.002239        0.002354      0.0005   \n",
       "\n",
       "              params  split0_test_score  split1_test_score  split2_test_score  \\\n",
       "0  {'alpha': 0.0001}          -0.278227          -0.279751          -0.270630   \n",
       "1  {'alpha': 0.0002}          -0.278290          -0.279751          -0.270380   \n",
       "2  {'alpha': 0.0003}          -0.278307          -0.279741          -0.270326   \n",
       "3  {'alpha': 0.0004}          -0.278330          -0.279745          -0.270327   \n",
       "4  {'alpha': 0.0005}          -0.278345          -0.279758          -0.270329   \n",
       "\n",
       "   split3_test_score       ...         mean_test_score  std_test_score  \\\n",
       "0          -0.277980       ...               -0.276234        0.003272   \n",
       "1          -0.277913       ...               -0.276172        0.003364   \n",
       "2          -0.277914       ...               -0.276159        0.003384   \n",
       "3          -0.277921       ...               -0.276162        0.003391   \n",
       "4          -0.277902       ...               -0.276157        0.003397   \n",
       "\n",
       "   rank_test_score  split0_train_score  split1_train_score  \\\n",
       "0                5           -0.274712           -0.274601   \n",
       "1                4           -0.274659           -0.274572   \n",
       "2                2           -0.274664           -0.274574   \n",
       "3                3           -0.274681           -0.274593   \n",
       "4                1           -0.274699           -0.274618   \n",
       "\n",
       "   split2_train_score  split3_train_score  split4_train_score  \\\n",
       "0           -0.277271           -0.274713           -0.276256   \n",
       "1           -0.277230           -0.274637           -0.276228   \n",
       "2           -0.277248           -0.274625           -0.276240   \n",
       "3           -0.277281           -0.274625           -0.276254   \n",
       "4           -0.277307           -0.274626           -0.276264   \n",
       "\n",
       "   mean_train_score  std_train_score  \n",
       "0         -0.275511         0.001073  \n",
       "1         -0.275465         0.001080  \n",
       "2         -0.275470         0.001088  \n",
       "3         -0.275487         0.001095  \n",
       "4         -0.275503         0.001098  \n",
       "\n",
       "[5 rows x 21 columns]"
      ]
     },
     "execution_count": 95,
     "metadata": {},
     "output_type": "execute_result"
    }
   ],
   "source": [
    "cv_results=pd.DataFrame(model_cv.cv_results_)\n",
    "cv_results=cv_results[cv_results['param_alpha'] <=200]\n",
    "cv_results.head()"
   ]
  },
  {
   "cell_type": "code",
   "execution_count": 96,
   "metadata": {},
   "outputs": [],
   "source": [
    "## plotting mean test and train score for aplha\n",
    "#cv_results['param_alpha'] = cv_results['param_alpha'].astype('int32')\n",
    "\n",
    "# plotting\n",
    "#plt.plot(cv_results['param_alpha'], cv_results['mean_train_score'])\n",
    "#plt.plot(cv_results['param_alpha'], cv_results['mean_test_score'])\n",
    "#plt.xlabel('alpha')\n",
    "#plt.ylabel('Negative Mean Absolute Error')\n",
    "#plt.title(\"Negative Mean Absolute Error and alpha\")\n",
    "#plt.legend(['train score', 'test score'], loc='upper left')\n",
    "#plt.show()"
   ]
  },
  {
   "cell_type": "code",
   "execution_count": 97,
   "metadata": {},
   "outputs": [
    {
     "data": {
      "text/plain": [
       "-0.2761566485210756"
      ]
     },
     "execution_count": 97,
     "metadata": {},
     "output_type": "execute_result"
    }
   ],
   "source": [
    "model_cv.best_score_"
   ]
  },
  {
   "cell_type": "code",
   "execution_count": 98,
   "metadata": {},
   "outputs": [
    {
     "data": {
      "text/plain": [
       "{'alpha': 0.0005}"
      ]
     },
     "execution_count": 98,
     "metadata": {},
     "output_type": "execute_result"
    }
   ],
   "source": [
    "model_cv.best_params_"
   ]
  },
  {
   "cell_type": "code",
   "execution_count": 99,
   "metadata": {},
   "outputs": [
    {
     "data": {
      "text/plain": [
       "Lasso(alpha=0.0005, copy_X=True, fit_intercept=True, max_iter=1000,\n",
       "      normalize=False, positive=False, precompute=False, random_state=None,\n",
       "      selection='cyclic', tol=0.0001, warm_start=False)"
      ]
     },
     "execution_count": 99,
     "metadata": {},
     "output_type": "execute_result"
    }
   ],
   "source": [
    "alpha=0.0005\n",
    "\n",
    "lasso=Lasso(alpha=alpha)\n",
    "lasso.fit(X_train,y_train)"
   ]
  },
  {
   "cell_type": "code",
   "execution_count": 100,
   "metadata": {},
   "outputs": [
    {
     "data": {
      "text/plain": [
       "array([-0.00829612,  0.01628539, -0.01289904, -0.00218099, -0.11971566,\n",
       "       -0.00419712, -0.        , -0.00216958,  0.12572082,  0.00829461,\n",
       "       -0.        ,  0.27560252,  0.17970648, -0.        ,  0.        ,\n",
       "       -0.01625236, -0.        ,  0.00689999])"
      ]
     },
     "execution_count": 100,
     "metadata": {},
     "output_type": "execute_result"
    }
   ],
   "source": [
    "lasso.coef_"
   ]
  },
  {
   "cell_type": "code",
   "execution_count": 101,
   "metadata": {},
   "outputs": [],
   "source": [
    "X_train=pd.DataFrame(X_train)"
   ]
  },
  {
   "cell_type": "code",
   "execution_count": 102,
   "metadata": {},
   "outputs": [
    {
     "name": "stdout",
     "output_type": "stream",
     "text": [
      "<class 'pandas.core.frame.DataFrame'>\n"
     ]
    }
   ],
   "source": [
    "print(type(X_train))"
   ]
  },
  {
   "cell_type": "code",
   "execution_count": 103,
   "metadata": {},
   "outputs": [
    {
     "name": "stdout",
     "output_type": "stream",
     "text": [
      "the num of feautes selected by lasso :  13\n"
     ]
    }
   ],
   "source": [
    "main_coef=pd.Series(lasso.coef_,index=X_train.columns)\n",
    "var_selected= sum(lasso.coef_!=0)\n",
    "print(\"the num of feautes selected by lasso : \",var_selected)"
   ]
  },
  {
   "cell_type": "code",
   "execution_count": 104,
   "metadata": {},
   "outputs": [
    {
     "data": {
      "text/plain": [
       "yrs_Old                 0.275603\n",
       "yrs_Sr Citizen          0.179706\n",
       "gg_Germany              0.125721\n",
       "Balance                 0.016285\n",
       "gg_Spain                0.008295\n",
       "sl_Very Rich            0.006900\n",
       "yrs_Super sr citizen   -0.000000\n",
       "yrs_Adult              -0.000000\n",
       "sl_V.Poor               0.000000\n",
       "sl_Rich                -0.000000\n",
       "sl_V.Poor               0.000000\n",
       "sl_Rich                -0.000000\n",
       "cr_Good                -0.000000\n",
       "cr_Very_good           -0.002170\n",
       "HasCrCard              -0.002181\n",
       "cr_Modest              -0.004197\n",
       "Tenure                 -0.008296\n",
       "NumOfProducts          -0.012899\n",
       "sl_Modest              -0.016252\n",
       "IsActiveMember         -0.119716\n",
       "dtype: float64"
      ]
     },
     "execution_count": 104,
     "metadata": {},
     "output_type": "execute_result"
    }
   ],
   "source": [
    "main_features=pd.concat([main_coef.sort_values(ascending=False).head(10),main_coef.sort_values(ascending=False).tail(10)])\n",
    "main_features"
   ]
  }
 ],
 "metadata": {
  "kernelspec": {
   "display_name": "Python 3",
   "language": "python",
   "name": "python3"
  },
  "language_info": {
   "codemirror_mode": {
    "name": "ipython",
    "version": 3
   },
   "file_extension": ".py",
   "mimetype": "text/x-python",
   "name": "python",
   "nbconvert_exporter": "python",
   "pygments_lexer": "ipython3",
   "version": "3.7.1"
  }
 },
 "nbformat": 4,
 "nbformat_minor": 2
}
